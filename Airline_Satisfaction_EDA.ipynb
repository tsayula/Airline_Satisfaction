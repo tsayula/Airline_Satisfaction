{
 "cells": [
  {
   "cell_type": "markdown",
   "metadata": {},
   "source": [
    "### Airline Satisfaction EDA\n",
    "- 103,000 entries\n",
    "- 19  numerical columns\n",
    "- 5 categorical columns\n"
   ]
  },
  {
   "cell_type": "code",
   "execution_count": 329,
   "metadata": {},
   "outputs": [],
   "source": [
    "import pandas as pd\n",
    "import numpy as np\n",
    "import matplotlib.pyplot as plt\n",
    "import seaborn as sns\n",
    "pd.set_option('display.max_columns', 25)\n",
    "\n",
    "%matplotlib inline"
   ]
  },
  {
   "cell_type": "code",
   "execution_count": 330,
   "metadata": {},
   "outputs": [],
   "source": [
    "#reading in csv, and setting index column\n",
    "df= pd.read_csv('train.csv', index_col=0)"
   ]
  },
  {
   "cell_type": "code",
   "execution_count": 331,
   "metadata": {},
   "outputs": [
    {
     "name": "stdout",
     "output_type": "stream",
     "text": [
      "<class 'pandas.core.frame.DataFrame'>\n",
      "Int64Index: 103904 entries, 0 to 103903\n",
      "Data columns (total 24 columns):\n",
      " #   Column                             Non-Null Count   Dtype  \n",
      "---  ------                             --------------   -----  \n",
      " 0   id                                 103904 non-null  int64  \n",
      " 1   Gender                             103904 non-null  object \n",
      " 2   Customer Type                      103904 non-null  object \n",
      " 3   Age                                103904 non-null  int64  \n",
      " 4   Type of Travel                     103904 non-null  object \n",
      " 5   Class                              103904 non-null  object \n",
      " 6   Flight Distance                    103904 non-null  int64  \n",
      " 7   Inflight wifi service              103904 non-null  int64  \n",
      " 8   Departure/Arrival time convenient  103904 non-null  int64  \n",
      " 9   Ease of Online booking             103904 non-null  int64  \n",
      " 10  Gate location                      103904 non-null  int64  \n",
      " 11  Food and drink                     103904 non-null  int64  \n",
      " 12  Online boarding                    103904 non-null  int64  \n",
      " 13  Seat comfort                       103904 non-null  int64  \n",
      " 14  Inflight entertainment             103904 non-null  int64  \n",
      " 15  On-board service                   103904 non-null  int64  \n",
      " 16  Leg room service                   103904 non-null  int64  \n",
      " 17  Baggage handling                   103904 non-null  int64  \n",
      " 18  Checkin service                    103904 non-null  int64  \n",
      " 19  Inflight service                   103904 non-null  int64  \n",
      " 20  Cleanliness                        103904 non-null  int64  \n",
      " 21  Departure Delay in Minutes         103904 non-null  int64  \n",
      " 22  Arrival Delay in Minutes           103594 non-null  float64\n",
      " 23  satisfaction                       103904 non-null  object \n",
      "dtypes: float64(1), int64(18), object(5)\n",
      "memory usage: 19.8+ MB\n"
     ]
    }
   ],
   "source": [
    "df.info()"
   ]
  },
  {
   "cell_type": "code",
   "execution_count": 332,
   "metadata": {},
   "outputs": [
    {
     "data": {
      "text/plain": [
       "(103904, 24)"
      ]
     },
     "execution_count": 332,
     "metadata": {},
     "output_type": "execute_result"
    }
   ],
   "source": [
    "df.shape"
   ]
  },
  {
   "cell_type": "code",
   "execution_count": 333,
   "metadata": {
    "scrolled": true
   },
   "outputs": [
    {
     "name": "stdout",
     "output_type": "stream",
     "text": [
      "Index(['id', 'Gender', 'Customer Type', 'Age', 'Type of Travel', 'Class',\n",
      "       'Flight Distance', 'Inflight wifi service',\n",
      "       'Departure/Arrival time convenient', 'Ease of Online booking',\n",
      "       'Gate location', 'Food and drink', 'Online boarding', 'Seat comfort',\n",
      "       'Inflight entertainment', 'On-board service', 'Leg room service',\n",
      "       'Baggage handling', 'Checkin service', 'Inflight service',\n",
      "       'Cleanliness', 'Departure Delay in Minutes', 'Arrival Delay in Minutes',\n",
      "       'satisfaction'],\n",
      "      dtype='object')\n"
     ]
    },
    {
     "data": {
      "text/plain": [
       "id                                     int64\n",
       "Gender                                object\n",
       "Customer Type                         object\n",
       "Age                                    int64\n",
       "Type of Travel                        object\n",
       "Class                                 object\n",
       "Flight Distance                        int64\n",
       "Inflight wifi service                  int64\n",
       "Departure/Arrival time convenient      int64\n",
       "Ease of Online booking                 int64\n",
       "Gate location                          int64\n",
       "Food and drink                         int64\n",
       "Online boarding                        int64\n",
       "Seat comfort                           int64\n",
       "Inflight entertainment                 int64\n",
       "On-board service                       int64\n",
       "Leg room service                       int64\n",
       "Baggage handling                       int64\n",
       "Checkin service                        int64\n",
       "Inflight service                       int64\n",
       "Cleanliness                            int64\n",
       "Departure Delay in Minutes             int64\n",
       "Arrival Delay in Minutes             float64\n",
       "satisfaction                          object\n",
       "dtype: object"
      ]
     },
     "execution_count": 333,
     "metadata": {},
     "output_type": "execute_result"
    }
   ],
   "source": [
    "column_names= df.columns\n",
    "print(column_names)\n",
    "\n",
    "df.dtypes"
   ]
  },
  {
   "cell_type": "code",
   "execution_count": 334,
   "metadata": {},
   "outputs": [
    {
     "data": {
      "text/plain": [
       "24"
      ]
     },
     "execution_count": 334,
     "metadata": {},
     "output_type": "execute_result"
    }
   ],
   "source": [
    "len(df.columns)"
   ]
  },
  {
   "cell_type": "code",
   "execution_count": 335,
   "metadata": {
    "scrolled": true
   },
   "outputs": [
    {
     "data": {
      "image/png": "[encoded data removed]",
      "text/plain": [
       "<Figure size 576x576 with 2 Axes>"
      ]
     },
     "metadata": {},
     "output_type": "display_data"
    }
   ],
   "source": [
    "sns.set(rc={'figure.figsize':(8, 8)})\n",
    "\n",
    "sns.heatmap(df.corr());"
   ]
  },
  {
   "cell_type": "code",
   "execution_count": 336,
   "metadata": {},
   "outputs": [
    {
     "data": {
      "text/plain": [
       "40.74166666666667"
      ]
     },
     "execution_count": 336,
     "metadata": {},
     "output_type": "execute_result"
    }
   ],
   "source": [
    "58668/1440"
   ]
  },
  {
   "cell_type": "code",
   "execution_count": 337,
   "metadata": {
    "scrolled": false
   },
   "outputs": [
    {
     "data": {
      "text/plain": [
       "count      446.000000\n",
       "mean       232.968610\n",
       "std       2789.541438\n",
       "min          1.000000\n",
       "25%          2.000000\n",
       "50%          8.000000\n",
       "75%         48.000000\n",
       "max      58668.000000\n",
       "Name: Departure Delay in Minutes, dtype: float64"
      ]
     },
     "execution_count": 337,
     "metadata": {},
     "output_type": "execute_result"
    }
   ],
   "source": [
    "df['Departure Delay in Minutes'].value_counts().describe()"
   ]
  },
  {
   "cell_type": "code",
   "execution_count": 338,
   "metadata": {},
   "outputs": [
    {
     "data": {
      "text/plain": [
       "count      455.000000\n",
       "mean       227.679121\n",
       "std       2737.084574\n",
       "min          1.000000\n",
       "25%          2.000000\n",
       "50%          7.000000\n",
       "75%         47.500000\n",
       "max      58159.000000\n",
       "Name: Arrival Delay in Minutes, dtype: float64"
      ]
     },
     "execution_count": 338,
     "metadata": {},
     "output_type": "execute_result"
    }
   ],
   "source": [
    "df['Arrival Delay in Minutes'].value_counts().describe()"
   ]
  },
  {
   "cell_type": "markdown",
   "metadata": {},
   "source": [
    "**So far we have gathered the following information:\n",
    "\n",
    "-There are approximately 380 null values in the dataset, all of which come from Departure Delay in minutes\n",
    "    -we can use simple imputer to impute those values, probably using median \n",
    "    -which model penalizes the most for outliers?\n",
    "-id is a unique column so we can drop it\n",
    "-we can drop either Departure Delay or Arrival delay, they have high correlation and the information is redundant"
   ]
  },
  {
   "cell_type": "markdown",
   "metadata": {},
   "source": [
    "____"
   ]
  },
  {
   "cell_type": "code",
   "execution_count": 339,
   "metadata": {},
   "outputs": [
    {
     "data": {
      "image/png": "[encoded data removed]",
      "text/plain": [
       "<Figure size 1512x2448 with 21 Axes>"
      ]
     },
     "metadata": {},
     "output_type": "display_data"
    }
   ],
   "source": [
    "fig, axs = plt.subplots(7,3, figsize=(21,34))\n",
    "\n",
    "for index, ax in enumerate(axs.flatten()):\n",
    "    if index < 21:\n",
    "        column = df.columns[index]\n",
    "        ax.hist(df[column], bins=40)\n",
    "        ax.set_title(column)\n",
    "plt.show()"
   ]
  },
  {
   "cell_type": "code",
   "execution_count": 340,
   "metadata": {},
   "outputs": [
    {
     "data": {
      "text/plain": [
       "count    103904.000000\n",
       "mean         39.379706\n",
       "std          15.114964\n",
       "min           7.000000\n",
       "25%          27.000000\n",
       "50%          40.000000\n",
       "75%          51.000000\n",
       "max          85.000000\n",
       "Name: Age, dtype: float64"
      ]
     },
     "execution_count": 340,
     "metadata": {},
     "output_type": "execute_result"
    }
   ],
   "source": [
    "df['Age'].describe()"
   ]
  },
  {
   "cell_type": "markdown",
   "metadata": {},
   "source": [
    "### Data Cleaning/ Feature Engineering"
   ]
  },
  {
   "cell_type": "markdown",
   "metadata": {},
   "source": [
    "**Drop unneccessary features**"
   ]
  },
  {
   "cell_type": "markdown",
   "metadata": {},
   "source": [
    "\n",
    "- Drop ID column (unique, no trends)\n",
    "- Remove/Impute Nan values (all in one column)\n",
    "- Bin features in order to more easily detect trends\n",
    "    - Bin 'Age' , more balanced data\n",
    "    - Bin 'Flight Distance' into \"short, medium, long\" range flights \n",
    "- Dummy \"Arrival/Depature Delay in Minutes\" to indicate whether the flight arrived/left on time\n",
    "   \n"
   ]
  },
  {
   "cell_type": "code",
   "execution_count": 341,
   "metadata": {},
   "outputs": [],
   "source": [
    "df.drop(columns=['id'], inplace=True)"
   ]
  },
  {
   "cell_type": "code",
   "execution_count": 342,
   "metadata": {},
   "outputs": [],
   "source": [
    "conditions= [\n",
    "    df['Age'].isin(range(7,18)),\n",
    "    df['Age'].isin(range(18,30)),\n",
    "    df['Age'].isin(range(30,40)),\n",
    "    df['Age'].isin(range(40,50)),\n",
    "    df['Age'].isin(range(50,60)),\n",
    "    df['Age'].isin(range(60,70)),\n",
    "    df['Age'].isin(range(70,100)),\n",
    "]\n",
    "\n",
    "choices= [\n",
    "    'Under 18', \n",
    "    '19-29',\n",
    "    '30-39',\n",
    "    '40-49', \n",
    "    '50-59',\n",
    "    '60-69',\n",
    "    '70+'\n",
    "]\n",
    "\n",
    "df['Age_']= np.select(conditions, choices, 0)"
   ]
  },
  {
   "cell_type": "code",
   "execution_count": 343,
   "metadata": {},
   "outputs": [
    {
     "data": {
      "text/plain": [
       "40-49       23696\n",
       "19-29       22796\n",
       "30-39       20659\n",
       "50-59       19103\n",
       "60-69        8346\n",
       "Under 18     7931\n",
       "70+          1373\n",
       "Name: Age_, dtype: int64"
      ]
     },
     "execution_count": 343,
     "metadata": {},
     "output_type": "execute_result"
    }
   ],
   "source": [
    "df['Age_'].value_counts()"
   ]
  },
  {
   "cell_type": "code",
   "execution_count": 344,
   "metadata": {},
   "outputs": [],
   "source": [
    "df['Flight_Length'] = ['Short_Flight' if x <= 800 else 'Long_Flight' if x >=2200 else 'Medium_Flight' for x in df['Flight Distance']]"
   ]
  },
  {
   "cell_type": "code",
   "execution_count": 345,
   "metadata": {},
   "outputs": [],
   "source": [
    "df['No_Delays'] = [1 if x == 0 else 0 for x in df['Arrival Delay in Minutes']+df['Departure Delay in Minutes']]"
   ]
  },
  {
   "cell_type": "code",
   "execution_count": 346,
   "metadata": {},
   "outputs": [],
   "source": [
    "df['Departure_Delay'] = [1 if x > 0 else 0 for x in df['Departure Delay in Minutes']]"
   ]
  },
  {
   "cell_type": "code",
   "execution_count": 347,
   "metadata": {},
   "outputs": [],
   "source": [
    "df['Arrival_Delay'] = [1 if x > 0 else 0 for x in df['Arrival Delay in Minutes']]"
   ]
  },
  {
   "cell_type": "code",
   "execution_count": 348,
   "metadata": {},
   "outputs": [],
   "source": [
    "df['2_Delays'] = [1 if x == 2 else 0 for x in df['Arrival_Delay']+df['Departure_Delay']]"
   ]
  },
  {
   "cell_type": "code",
   "execution_count": 349,
   "metadata": {},
   "outputs": [
    {
     "data": {
      "text/plain": [
       "['Gender',\n",
       " 'Customer Type',\n",
       " 'Age',\n",
       " 'Type of Travel',\n",
       " 'Class',\n",
       " 'Flight Distance',\n",
       " 'Inflight wifi service',\n",
       " 'Departure/Arrival time convenient',\n",
       " 'Ease of Online booking',\n",
       " 'Gate location',\n",
       " 'Food and drink',\n",
       " 'Online boarding',\n",
       " 'Seat comfort',\n",
       " 'Inflight entertainment',\n",
       " 'On-board service',\n",
       " 'Leg room service',\n",
       " 'Baggage handling',\n",
       " 'Checkin service',\n",
       " 'Inflight service',\n",
       " 'Cleanliness',\n",
       " 'Departure Delay in Minutes',\n",
       " 'Arrival Delay in Minutes',\n",
       " 'satisfaction',\n",
       " 'Age_',\n",
       " 'Flight_Length',\n",
       " 'No_Delays',\n",
       " 'Departure_Delay',\n",
       " 'Arrival_Delay',\n",
       " '2_Delays']"
      ]
     },
     "execution_count": 349,
     "metadata": {},
     "output_type": "execute_result"
    }
   ],
   "source": [
    "df.columns.tolist()"
   ]
  },
  {
   "cell_type": "markdown",
   "metadata": {},
   "source": [
    "_____"
   ]
  },
  {
   "cell_type": "markdown",
   "metadata": {},
   "source": [
    "### Dummy Out Values"
   ]
  },
  {
   "cell_type": "code",
   "execution_count": 350,
   "metadata": {},
   "outputs": [],
   "source": [
    "#Dummying target variable \n",
    "df['satisfaction']= np.where(df['satisfaction']== 'satisfied', 1, 0)"
   ]
  },
  {
   "cell_type": "code",
   "execution_count": 351,
   "metadata": {},
   "outputs": [],
   "source": [
    "X= df.drop('satisfaction', axis=1)\n",
    "y= df[['satisfaction']]"
   ]
  },
  {
   "cell_type": "code",
   "execution_count": 352,
   "metadata": {
    "scrolled": false
   },
   "outputs": [
    {
     "data": {
      "text/plain": [
       "satisfaction\n",
       "0               0.566667\n",
       "1               0.433333\n",
       "dtype: float64"
      ]
     },
     "execution_count": 352,
     "metadata": {},
     "output_type": "execute_result"
    }
   ],
   "source": [
    "y.value_counts(normalize=True)"
   ]
  },
  {
   "cell_type": "code",
   "execution_count": 353,
   "metadata": {
    "scrolled": true
   },
   "outputs": [
    {
     "data": {
      "text/html": [
       "<div>\n",
       "<style scoped>\n",
       "    .dataframe tbody tr th:only-of-type {\n",
       "        vertical-align: middle;\n",
       "    }\n",
       "\n",
       "    .dataframe tbody tr th {\n",
       "        vertical-align: top;\n",
       "    }\n",
       "\n",
       "    .dataframe thead th {\n",
       "        text-align: right;\n",
       "    }\n",
       "</style>\n",
       "<table border=\"1\" class=\"dataframe\">\n",
       "  <thead>\n",
       "    <tr style=\"text-align: right;\">\n",
       "      <th></th>\n",
       "      <th>Gender</th>\n",
       "      <th>Customer Type</th>\n",
       "      <th>Type of Travel</th>\n",
       "      <th>Class</th>\n",
       "      <th>Age_</th>\n",
       "      <th>Flight_Length</th>\n",
       "    </tr>\n",
       "  </thead>\n",
       "  <tbody>\n",
       "    <tr>\n",
       "      <th>0</th>\n",
       "      <td>Male</td>\n",
       "      <td>Loyal Customer</td>\n",
       "      <td>Personal Travel</td>\n",
       "      <td>Eco Plus</td>\n",
       "      <td>Under 18</td>\n",
       "      <td>Short_Flight</td>\n",
       "    </tr>\n",
       "    <tr>\n",
       "      <th>1</th>\n",
       "      <td>Male</td>\n",
       "      <td>disloyal Customer</td>\n",
       "      <td>Business travel</td>\n",
       "      <td>Business</td>\n",
       "      <td>19-29</td>\n",
       "      <td>Short_Flight</td>\n",
       "    </tr>\n",
       "    <tr>\n",
       "      <th>2</th>\n",
       "      <td>Female</td>\n",
       "      <td>Loyal Customer</td>\n",
       "      <td>Business travel</td>\n",
       "      <td>Business</td>\n",
       "      <td>19-29</td>\n",
       "      <td>Medium_Flight</td>\n",
       "    </tr>\n",
       "    <tr>\n",
       "      <th>3</th>\n",
       "      <td>Female</td>\n",
       "      <td>Loyal Customer</td>\n",
       "      <td>Business travel</td>\n",
       "      <td>Business</td>\n",
       "      <td>19-29</td>\n",
       "      <td>Short_Flight</td>\n",
       "    </tr>\n",
       "    <tr>\n",
       "      <th>4</th>\n",
       "      <td>Male</td>\n",
       "      <td>Loyal Customer</td>\n",
       "      <td>Business travel</td>\n",
       "      <td>Business</td>\n",
       "      <td>60-69</td>\n",
       "      <td>Short_Flight</td>\n",
       "    </tr>\n",
       "    <tr>\n",
       "      <th>...</th>\n",
       "      <td>...</td>\n",
       "      <td>...</td>\n",
       "      <td>...</td>\n",
       "      <td>...</td>\n",
       "      <td>...</td>\n",
       "      <td>...</td>\n",
       "    </tr>\n",
       "    <tr>\n",
       "      <th>103899</th>\n",
       "      <td>Female</td>\n",
       "      <td>disloyal Customer</td>\n",
       "      <td>Business travel</td>\n",
       "      <td>Eco</td>\n",
       "      <td>19-29</td>\n",
       "      <td>Short_Flight</td>\n",
       "    </tr>\n",
       "    <tr>\n",
       "      <th>103900</th>\n",
       "      <td>Male</td>\n",
       "      <td>Loyal Customer</td>\n",
       "      <td>Business travel</td>\n",
       "      <td>Business</td>\n",
       "      <td>40-49</td>\n",
       "      <td>Long_Flight</td>\n",
       "    </tr>\n",
       "    <tr>\n",
       "      <th>103901</th>\n",
       "      <td>Male</td>\n",
       "      <td>disloyal Customer</td>\n",
       "      <td>Business travel</td>\n",
       "      <td>Business</td>\n",
       "      <td>30-39</td>\n",
       "      <td>Medium_Flight</td>\n",
       "    </tr>\n",
       "    <tr>\n",
       "      <th>103902</th>\n",
       "      <td>Female</td>\n",
       "      <td>disloyal Customer</td>\n",
       "      <td>Business travel</td>\n",
       "      <td>Eco</td>\n",
       "      <td>19-29</td>\n",
       "      <td>Medium_Flight</td>\n",
       "    </tr>\n",
       "    <tr>\n",
       "      <th>103903</th>\n",
       "      <td>Male</td>\n",
       "      <td>Loyal Customer</td>\n",
       "      <td>Business travel</td>\n",
       "      <td>Business</td>\n",
       "      <td>19-29</td>\n",
       "      <td>Medium_Flight</td>\n",
       "    </tr>\n",
       "  </tbody>\n",
       "</table>\n",
       "<p>103904 rows × 6 columns</p>\n",
       "</div>"
      ],
      "text/plain": [
       "        Gender      Customer Type   Type of Travel     Class      Age_  \\\n",
       "0         Male     Loyal Customer  Personal Travel  Eco Plus  Under 18   \n",
       "1         Male  disloyal Customer  Business travel  Business     19-29   \n",
       "2       Female     Loyal Customer  Business travel  Business     19-29   \n",
       "3       Female     Loyal Customer  Business travel  Business     19-29   \n",
       "4         Male     Loyal Customer  Business travel  Business     60-69   \n",
       "...        ...                ...              ...       ...       ...   \n",
       "103899  Female  disloyal Customer  Business travel       Eco     19-29   \n",
       "103900    Male     Loyal Customer  Business travel  Business     40-49   \n",
       "103901    Male  disloyal Customer  Business travel  Business     30-39   \n",
       "103902  Female  disloyal Customer  Business travel       Eco     19-29   \n",
       "103903    Male     Loyal Customer  Business travel  Business     19-29   \n",
       "\n",
       "        Flight_Length  \n",
       "0        Short_Flight  \n",
       "1        Short_Flight  \n",
       "2       Medium_Flight  \n",
       "3        Short_Flight  \n",
       "4        Short_Flight  \n",
       "...               ...  \n",
       "103899   Short_Flight  \n",
       "103900    Long_Flight  \n",
       "103901  Medium_Flight  \n",
       "103902  Medium_Flight  \n",
       "103903  Medium_Flight  \n",
       "\n",
       "[103904 rows x 6 columns]"
      ]
     },
     "execution_count": 353,
     "metadata": {},
     "output_type": "execute_result"
    }
   ],
   "source": [
    "X_cat= X.select_dtypes('object')\n",
    "X_cat"
   ]
  },
  {
   "cell_type": "markdown",
   "metadata": {},
   "source": [
    "#### Train Test Split Data"
   ]
  },
  {
   "cell_type": "code",
   "execution_count": 354,
   "metadata": {},
   "outputs": [],
   "source": [
    "from sklearn.model_selection import train_test_split"
   ]
  },
  {
   "cell_type": "code",
   "execution_count": 355,
   "metadata": {},
   "outputs": [],
   "source": [
    "X_train, X_test, y_train, y_test= train_test_split(X,y, random_state=42)"
   ]
  },
  {
   "cell_type": "code",
   "execution_count": 356,
   "metadata": {},
   "outputs": [
    {
     "name": "stdout",
     "output_type": "stream",
     "text": [
      "Train percent satistified/dissatisfied:  satisfaction\n",
      "1               0.432784\n",
      "dtype: float64\n",
      "Test percent satistified/dissatisfied:  satisfaction\n",
      "1               0.434978\n",
      "dtype: float64\n"
     ]
    }
   ],
   "source": [
    "print(\"Train percent satistified/dissatisfied: \", y_train.value_counts(normalize=True)[1])\n",
    "print(\"Test percent satistified/dissatisfied: \", y_test.value_counts(normalize=True)[1])"
   ]
  },
  {
   "cell_type": "markdown",
   "metadata": {},
   "source": [
    "_______"
   ]
  },
  {
   "cell_type": "markdown",
   "metadata": {},
   "source": [
    "____"
   ]
  },
  {
   "cell_type": "code",
   "execution_count": 357,
   "metadata": {},
   "outputs": [],
   "source": [
    "#Removing object features from X-train and X-test data\n",
    "X_train_cont= X_train.select_dtypes(exclude=object)\n",
    "X_test_cont= X_test.select_dtypes(exclude=object)\n",
    "\n",
    "#Removing numerical features from X_train and X_test data\n",
    "X_train_cat= X_train.select_dtypes(include=object)\n",
    "X_test_cat= X_test.select_dtypes(include=object)\n"
   ]
  },
  {
   "cell_type": "code",
   "execution_count": 358,
   "metadata": {},
   "outputs": [
    {
     "data": {
      "text/plain": [
       "74"
      ]
     },
     "execution_count": 358,
     "metadata": {},
     "output_type": "execute_result"
    }
   ],
   "source": [
    "X_train_cont.isna().sum().sum()\n",
    "X_test_cont.isna().sum().sum()"
   ]
  },
  {
   "cell_type": "code",
   "execution_count": 359,
   "metadata": {},
   "outputs": [],
   "source": [
    "from sklearn.impute import SimpleImputer"
   ]
  },
  {
   "cell_type": "code",
   "execution_count": 360,
   "metadata": {},
   "outputs": [],
   "source": [
    "X_train_imputed= X_train_cont.fillna(0)\n",
    "X_test_imputed=X_test_cont.fillna(0)"
   ]
  },
  {
   "cell_type": "code",
   "execution_count": 361,
   "metadata": {},
   "outputs": [],
   "source": [
    "# #Using Simple Imputer to impute some values\n",
    "# impute= SimpleImputer(missing_values=nan, fill_value=0)\n",
    "# X_train_imputed= impute.fit_transform(X_train_cont)\n",
    "# X_test_imputed= impute.transform(X_test_cont)"
   ]
  },
  {
   "cell_type": "code",
   "execution_count": 362,
   "metadata": {},
   "outputs": [
    {
     "data": {
      "text/html": [
       "<div>\n",
       "<style scoped>\n",
       "    .dataframe tbody tr th:only-of-type {\n",
       "        vertical-align: middle;\n",
       "    }\n",
       "\n",
       "    .dataframe tbody tr th {\n",
       "        vertical-align: top;\n",
       "    }\n",
       "\n",
       "    .dataframe thead th {\n",
       "        text-align: right;\n",
       "    }\n",
       "</style>\n",
       "<table border=\"1\" class=\"dataframe\">\n",
       "  <thead>\n",
       "    <tr style=\"text-align: right;\">\n",
       "      <th></th>\n",
       "      <th>Age</th>\n",
       "      <th>Flight Distance</th>\n",
       "      <th>Inflight wifi service</th>\n",
       "      <th>Departure/Arrival time convenient</th>\n",
       "      <th>Ease of Online booking</th>\n",
       "      <th>Gate location</th>\n",
       "      <th>Food and drink</th>\n",
       "      <th>Online boarding</th>\n",
       "      <th>Seat comfort</th>\n",
       "      <th>Inflight entertainment</th>\n",
       "      <th>On-board service</th>\n",
       "      <th>Leg room service</th>\n",
       "      <th>Baggage handling</th>\n",
       "      <th>Checkin service</th>\n",
       "      <th>Inflight service</th>\n",
       "      <th>Cleanliness</th>\n",
       "      <th>Departure Delay in Minutes</th>\n",
       "      <th>Arrival Delay in Minutes</th>\n",
       "      <th>No_Delays</th>\n",
       "      <th>Departure_Delay</th>\n",
       "      <th>Arrival_Delay</th>\n",
       "      <th>2_Delays</th>\n",
       "    </tr>\n",
       "  </thead>\n",
       "  <tbody>\n",
       "    <tr>\n",
       "      <th>22672</th>\n",
       "      <td>11</td>\n",
       "      <td>602</td>\n",
       "      <td>1</td>\n",
       "      <td>4</td>\n",
       "      <td>1</td>\n",
       "      <td>1</td>\n",
       "      <td>3</td>\n",
       "      <td>1</td>\n",
       "      <td>3</td>\n",
       "      <td>3</td>\n",
       "      <td>3</td>\n",
       "      <td>4</td>\n",
       "      <td>5</td>\n",
       "      <td>4</td>\n",
       "      <td>4</td>\n",
       "      <td>3</td>\n",
       "      <td>3</td>\n",
       "      <td>2.0</td>\n",
       "      <td>0</td>\n",
       "      <td>1</td>\n",
       "      <td>1</td>\n",
       "      <td>1</td>\n",
       "    </tr>\n",
       "    <tr>\n",
       "      <th>13770</th>\n",
       "      <td>45</td>\n",
       "      <td>447</td>\n",
       "      <td>4</td>\n",
       "      <td>4</td>\n",
       "      <td>4</td>\n",
       "      <td>4</td>\n",
       "      <td>5</td>\n",
       "      <td>5</td>\n",
       "      <td>4</td>\n",
       "      <td>2</td>\n",
       "      <td>2</td>\n",
       "      <td>2</td>\n",
       "      <td>2</td>\n",
       "      <td>5</td>\n",
       "      <td>2</td>\n",
       "      <td>5</td>\n",
       "      <td>0</td>\n",
       "      <td>0.0</td>\n",
       "      <td>1</td>\n",
       "      <td>0</td>\n",
       "      <td>0</td>\n",
       "      <td>0</td>\n",
       "    </tr>\n",
       "    <tr>\n",
       "      <th>47909</th>\n",
       "      <td>42</td>\n",
       "      <td>956</td>\n",
       "      <td>4</td>\n",
       "      <td>1</td>\n",
       "      <td>1</td>\n",
       "      <td>1</td>\n",
       "      <td>5</td>\n",
       "      <td>1</td>\n",
       "      <td>4</td>\n",
       "      <td>3</td>\n",
       "      <td>3</td>\n",
       "      <td>4</td>\n",
       "      <td>3</td>\n",
       "      <td>5</td>\n",
       "      <td>3</td>\n",
       "      <td>2</td>\n",
       "      <td>0</td>\n",
       "      <td>0.0</td>\n",
       "      <td>1</td>\n",
       "      <td>0</td>\n",
       "      <td>0</td>\n",
       "      <td>0</td>\n",
       "    </tr>\n",
       "    <tr>\n",
       "      <th>29822</th>\n",
       "      <td>51</td>\n",
       "      <td>163</td>\n",
       "      <td>3</td>\n",
       "      <td>4</td>\n",
       "      <td>3</td>\n",
       "      <td>3</td>\n",
       "      <td>3</td>\n",
       "      <td>3</td>\n",
       "      <td>4</td>\n",
       "      <td>4</td>\n",
       "      <td>4</td>\n",
       "      <td>3</td>\n",
       "      <td>4</td>\n",
       "      <td>2</td>\n",
       "      <td>4</td>\n",
       "      <td>2</td>\n",
       "      <td>0</td>\n",
       "      <td>0.0</td>\n",
       "      <td>1</td>\n",
       "      <td>0</td>\n",
       "      <td>0</td>\n",
       "      <td>0</td>\n",
       "    </tr>\n",
       "    <tr>\n",
       "      <th>52456</th>\n",
       "      <td>33</td>\n",
       "      <td>3218</td>\n",
       "      <td>2</td>\n",
       "      <td>5</td>\n",
       "      <td>5</td>\n",
       "      <td>5</td>\n",
       "      <td>2</td>\n",
       "      <td>2</td>\n",
       "      <td>2</td>\n",
       "      <td>2</td>\n",
       "      <td>4</td>\n",
       "      <td>1</td>\n",
       "      <td>3</td>\n",
       "      <td>3</td>\n",
       "      <td>3</td>\n",
       "      <td>2</td>\n",
       "      <td>0</td>\n",
       "      <td>23.0</td>\n",
       "      <td>0</td>\n",
       "      <td>0</td>\n",
       "      <td>1</td>\n",
       "      <td>0</td>\n",
       "    </tr>\n",
       "    <tr>\n",
       "      <th>...</th>\n",
       "      <td>...</td>\n",
       "      <td>...</td>\n",
       "      <td>...</td>\n",
       "      <td>...</td>\n",
       "      <td>...</td>\n",
       "      <td>...</td>\n",
       "      <td>...</td>\n",
       "      <td>...</td>\n",
       "      <td>...</td>\n",
       "      <td>...</td>\n",
       "      <td>...</td>\n",
       "      <td>...</td>\n",
       "      <td>...</td>\n",
       "      <td>...</td>\n",
       "      <td>...</td>\n",
       "      <td>...</td>\n",
       "      <td>...</td>\n",
       "      <td>...</td>\n",
       "      <td>...</td>\n",
       "      <td>...</td>\n",
       "      <td>...</td>\n",
       "      <td>...</td>\n",
       "    </tr>\n",
       "    <tr>\n",
       "      <th>54886</th>\n",
       "      <td>39</td>\n",
       "      <td>637</td>\n",
       "      <td>3</td>\n",
       "      <td>5</td>\n",
       "      <td>3</td>\n",
       "      <td>5</td>\n",
       "      <td>3</td>\n",
       "      <td>3</td>\n",
       "      <td>3</td>\n",
       "      <td>3</td>\n",
       "      <td>4</td>\n",
       "      <td>3</td>\n",
       "      <td>2</td>\n",
       "      <td>3</td>\n",
       "      <td>2</td>\n",
       "      <td>3</td>\n",
       "      <td>1</td>\n",
       "      <td>0.0</td>\n",
       "      <td>0</td>\n",
       "      <td>1</td>\n",
       "      <td>0</td>\n",
       "      <td>0</td>\n",
       "    </tr>\n",
       "    <tr>\n",
       "      <th>76820</th>\n",
       "      <td>17</td>\n",
       "      <td>646</td>\n",
       "      <td>3</td>\n",
       "      <td>4</td>\n",
       "      <td>3</td>\n",
       "      <td>1</td>\n",
       "      <td>3</td>\n",
       "      <td>3</td>\n",
       "      <td>2</td>\n",
       "      <td>3</td>\n",
       "      <td>5</td>\n",
       "      <td>1</td>\n",
       "      <td>2</td>\n",
       "      <td>4</td>\n",
       "      <td>4</td>\n",
       "      <td>3</td>\n",
       "      <td>0</td>\n",
       "      <td>2.0</td>\n",
       "      <td>0</td>\n",
       "      <td>0</td>\n",
       "      <td>1</td>\n",
       "      <td>0</td>\n",
       "    </tr>\n",
       "    <tr>\n",
       "      <th>103694</th>\n",
       "      <td>46</td>\n",
       "      <td>1197</td>\n",
       "      <td>1</td>\n",
       "      <td>2</td>\n",
       "      <td>2</td>\n",
       "      <td>2</td>\n",
       "      <td>1</td>\n",
       "      <td>1</td>\n",
       "      <td>1</td>\n",
       "      <td>4</td>\n",
       "      <td>3</td>\n",
       "      <td>3</td>\n",
       "      <td>3</td>\n",
       "      <td>1</td>\n",
       "      <td>1</td>\n",
       "      <td>1</td>\n",
       "      <td>260</td>\n",
       "      <td>263.0</td>\n",
       "      <td>0</td>\n",
       "      <td>1</td>\n",
       "      <td>1</td>\n",
       "      <td>1</td>\n",
       "    </tr>\n",
       "    <tr>\n",
       "      <th>860</th>\n",
       "      <td>37</td>\n",
       "      <td>320</td>\n",
       "      <td>5</td>\n",
       "      <td>5</td>\n",
       "      <td>5</td>\n",
       "      <td>5</td>\n",
       "      <td>5</td>\n",
       "      <td>5</td>\n",
       "      <td>5</td>\n",
       "      <td>5</td>\n",
       "      <td>1</td>\n",
       "      <td>2</td>\n",
       "      <td>4</td>\n",
       "      <td>1</td>\n",
       "      <td>3</td>\n",
       "      <td>5</td>\n",
       "      <td>0</td>\n",
       "      <td>0.0</td>\n",
       "      <td>1</td>\n",
       "      <td>0</td>\n",
       "      <td>0</td>\n",
       "      <td>0</td>\n",
       "    </tr>\n",
       "    <tr>\n",
       "      <th>15795</th>\n",
       "      <td>14</td>\n",
       "      <td>351</td>\n",
       "      <td>4</td>\n",
       "      <td>5</td>\n",
       "      <td>4</td>\n",
       "      <td>2</td>\n",
       "      <td>4</td>\n",
       "      <td>4</td>\n",
       "      <td>4</td>\n",
       "      <td>4</td>\n",
       "      <td>3</td>\n",
       "      <td>5</td>\n",
       "      <td>5</td>\n",
       "      <td>4</td>\n",
       "      <td>4</td>\n",
       "      <td>4</td>\n",
       "      <td>0</td>\n",
       "      <td>0.0</td>\n",
       "      <td>1</td>\n",
       "      <td>0</td>\n",
       "      <td>0</td>\n",
       "      <td>0</td>\n",
       "    </tr>\n",
       "  </tbody>\n",
       "</table>\n",
       "<p>77928 rows × 22 columns</p>\n",
       "</div>"
      ],
      "text/plain": [
       "        Age  Flight Distance  Inflight wifi service  \\\n",
       "22672    11              602                      1   \n",
       "13770    45              447                      4   \n",
       "47909    42              956                      4   \n",
       "29822    51              163                      3   \n",
       "52456    33             3218                      2   \n",
       "...     ...              ...                    ...   \n",
       "54886    39              637                      3   \n",
       "76820    17              646                      3   \n",
       "103694   46             1197                      1   \n",
       "860      37              320                      5   \n",
       "15795    14              351                      4   \n",
       "\n",
       "        Departure/Arrival time convenient  Ease of Online booking  \\\n",
       "22672                                   4                       1   \n",
       "13770                                   4                       4   \n",
       "47909                                   1                       1   \n",
       "29822                                   4                       3   \n",
       "52456                                   5                       5   \n",
       "...                                   ...                     ...   \n",
       "54886                                   5                       3   \n",
       "76820                                   4                       3   \n",
       "103694                                  2                       2   \n",
       "860                                     5                       5   \n",
       "15795                                   5                       4   \n",
       "\n",
       "        Gate location  Food and drink  Online boarding  Seat comfort  \\\n",
       "22672               1               3                1             3   \n",
       "13770               4               5                5             4   \n",
       "47909               1               5                1             4   \n",
       "29822               3               3                3             4   \n",
       "52456               5               2                2             2   \n",
       "...               ...             ...              ...           ...   \n",
       "54886               5               3                3             3   \n",
       "76820               1               3                3             2   \n",
       "103694              2               1                1             1   \n",
       "860                 5               5                5             5   \n",
       "15795               2               4                4             4   \n",
       "\n",
       "        Inflight entertainment  On-board service  Leg room service  \\\n",
       "22672                        3                 3                 4   \n",
       "13770                        2                 2                 2   \n",
       "47909                        3                 3                 4   \n",
       "29822                        4                 4                 3   \n",
       "52456                        2                 4                 1   \n",
       "...                        ...               ...               ...   \n",
       "54886                        3                 4                 3   \n",
       "76820                        3                 5                 1   \n",
       "103694                       4                 3                 3   \n",
       "860                          5                 1                 2   \n",
       "15795                        4                 3                 5   \n",
       "\n",
       "        Baggage handling  Checkin service  Inflight service  Cleanliness  \\\n",
       "22672                  5                4                 4            3   \n",
       "13770                  2                5                 2            5   \n",
       "47909                  3                5                 3            2   \n",
       "29822                  4                2                 4            2   \n",
       "52456                  3                3                 3            2   \n",
       "...                  ...              ...               ...          ...   \n",
       "54886                  2                3                 2            3   \n",
       "76820                  2                4                 4            3   \n",
       "103694                 3                1                 1            1   \n",
       "860                    4                1                 3            5   \n",
       "15795                  5                4                 4            4   \n",
       "\n",
       "        Departure Delay in Minutes  Arrival Delay in Minutes  No_Delays  \\\n",
       "22672                            3                       2.0          0   \n",
       "13770                            0                       0.0          1   \n",
       "47909                            0                       0.0          1   \n",
       "29822                            0                       0.0          1   \n",
       "52456                            0                      23.0          0   \n",
       "...                            ...                       ...        ...   \n",
       "54886                            1                       0.0          0   \n",
       "76820                            0                       2.0          0   \n",
       "103694                         260                     263.0          0   \n",
       "860                              0                       0.0          1   \n",
       "15795                            0                       0.0          1   \n",
       "\n",
       "        Departure_Delay  Arrival_Delay  2_Delays  \n",
       "22672                 1              1         1  \n",
       "13770                 0              0         0  \n",
       "47909                 0              0         0  \n",
       "29822                 0              0         0  \n",
       "52456                 0              1         0  \n",
       "...                 ...            ...       ...  \n",
       "54886                 1              0         0  \n",
       "76820                 0              1         0  \n",
       "103694                1              1         1  \n",
       "860                   0              0         0  \n",
       "15795                 0              0         0  \n",
       "\n",
       "[77928 rows x 22 columns]"
      ]
     },
     "execution_count": 362,
     "metadata": {},
     "output_type": "execute_result"
    }
   ],
   "source": [
    "X_train_imputed"
   ]
  },
  {
   "cell_type": "markdown",
   "metadata": {},
   "source": [
    "### Normalizing the Data"
   ]
  },
  {
   "cell_type": "code",
   "execution_count": 363,
   "metadata": {},
   "outputs": [],
   "source": [
    "from sklearn.preprocessing import StandardScaler\n",
    "\n",
    "#instantiate scaler \n",
    "cols= X_train_imputed.columns\n",
    "ss= StandardScaler()\n",
    "X_train_scaled= pd.DataFrame(ss.fit_transform(X_train_imputed), columns=cols)\n",
    "X_test_scaled= pd.DataFrame(ss.transform(X_test_imputed), columns=cols)"
   ]
  },
  {
   "cell_type": "code",
   "execution_count": 364,
   "metadata": {},
   "outputs": [],
   "source": [
    "# cols = X_train_imputed.columns\n",
    "# sc = StandardScaler()\n",
    "# X_train_sc = pd.DataFrame(sc.fit_transform(X_train), columns=cols)\n",
    "# X_test_sc = pd.DataFrame(sc.transform(X_test), columns=cols)"
   ]
  },
  {
   "cell_type": "code",
   "execution_count": 365,
   "metadata": {
    "scrolled": true
   },
   "outputs": [
    {
     "data": {
      "text/html": [
       "<div>\n",
       "<style scoped>\n",
       "    .dataframe tbody tr th:only-of-type {\n",
       "        vertical-align: middle;\n",
       "    }\n",
       "\n",
       "    .dataframe tbody tr th {\n",
       "        vertical-align: top;\n",
       "    }\n",
       "\n",
       "    .dataframe thead th {\n",
       "        text-align: right;\n",
       "    }\n",
       "</style>\n",
       "<table border=\"1\" class=\"dataframe\">\n",
       "  <thead>\n",
       "    <tr style=\"text-align: right;\">\n",
       "      <th></th>\n",
       "      <th>Age</th>\n",
       "      <th>Flight Distance</th>\n",
       "      <th>Inflight wifi service</th>\n",
       "      <th>Departure/Arrival time convenient</th>\n",
       "      <th>Ease of Online booking</th>\n",
       "      <th>Gate location</th>\n",
       "      <th>Food and drink</th>\n",
       "      <th>Online boarding</th>\n",
       "      <th>Seat comfort</th>\n",
       "      <th>Inflight entertainment</th>\n",
       "      <th>On-board service</th>\n",
       "      <th>Leg room service</th>\n",
       "      <th>Baggage handling</th>\n",
       "      <th>Checkin service</th>\n",
       "      <th>Inflight service</th>\n",
       "      <th>Cleanliness</th>\n",
       "      <th>Departure Delay in Minutes</th>\n",
       "      <th>Arrival Delay in Minutes</th>\n",
       "      <th>No_Delays</th>\n",
       "      <th>Departure_Delay</th>\n",
       "      <th>Arrival_Delay</th>\n",
       "      <th>2_Delays</th>\n",
       "    </tr>\n",
       "  </thead>\n",
       "  <tbody>\n",
       "    <tr>\n",
       "      <th>0</th>\n",
       "      <td>-1.873741</td>\n",
       "      <td>-0.589265</td>\n",
       "      <td>-1.302010</td>\n",
       "      <td>0.618504</td>\n",
       "      <td>-1.254543</td>\n",
       "      <td>-1.549566</td>\n",
       "      <td>-0.150855</td>\n",
       "      <td>-1.661260</td>\n",
       "      <td>-0.329532</td>\n",
       "      <td>-0.266152</td>\n",
       "      <td>-0.298138</td>\n",
       "      <td>0.491806</td>\n",
       "      <td>1.159738</td>\n",
       "      <td>0.548725</td>\n",
       "      <td>0.305851</td>\n",
       "      <td>-0.214791</td>\n",
       "      <td>-0.308573</td>\n",
       "      <td>-0.338989</td>\n",
       "      <td>-0.916756</td>\n",
       "      <td>1.137374</td>\n",
       "      <td>1.135269</td>\n",
       "      <td>1.422791</td>\n",
       "    </tr>\n",
       "    <tr>\n",
       "      <th>1</th>\n",
       "      <td>0.375449</td>\n",
       "      <td>-0.744708</td>\n",
       "      <td>0.957427</td>\n",
       "      <td>0.618504</td>\n",
       "      <td>0.889389</td>\n",
       "      <td>0.802140</td>\n",
       "      <td>1.356500</td>\n",
       "      <td>1.298675</td>\n",
       "      <td>0.428564</td>\n",
       "      <td>-1.017954</td>\n",
       "      <td>-1.074859</td>\n",
       "      <td>-1.030374</td>\n",
       "      <td>-1.379986</td>\n",
       "      <td>1.338868</td>\n",
       "      <td>-1.396362</td>\n",
       "      <td>1.311790</td>\n",
       "      <td>-0.386957</td>\n",
       "      <td>-0.390699</td>\n",
       "      <td>1.090802</td>\n",
       "      <td>-0.879218</td>\n",
       "      <td>-0.880848</td>\n",
       "      <td>-0.702844</td>\n",
       "    </tr>\n",
       "    <tr>\n",
       "      <th>2</th>\n",
       "      <td>0.176991</td>\n",
       "      <td>-0.234254</td>\n",
       "      <td>0.957427</td>\n",
       "      <td>-1.344572</td>\n",
       "      <td>-1.254543</td>\n",
       "      <td>-1.549566</td>\n",
       "      <td>1.356500</td>\n",
       "      <td>-1.661260</td>\n",
       "      <td>0.428564</td>\n",
       "      <td>-0.266152</td>\n",
       "      <td>-0.298138</td>\n",
       "      <td>0.491806</td>\n",
       "      <td>-0.533411</td>\n",
       "      <td>1.338868</td>\n",
       "      <td>-0.545255</td>\n",
       "      <td>-0.978081</td>\n",
       "      <td>-0.386957</td>\n",
       "      <td>-0.390699</td>\n",
       "      <td>1.090802</td>\n",
       "      <td>-0.879218</td>\n",
       "      <td>-0.880848</td>\n",
       "      <td>-0.702844</td>\n",
       "    </tr>\n",
       "    <tr>\n",
       "      <th>3</th>\n",
       "      <td>0.772365</td>\n",
       "      <td>-1.029519</td>\n",
       "      <td>0.204281</td>\n",
       "      <td>0.618504</td>\n",
       "      <td>0.174745</td>\n",
       "      <td>0.018238</td>\n",
       "      <td>-0.150855</td>\n",
       "      <td>-0.181293</td>\n",
       "      <td>0.428564</td>\n",
       "      <td>0.485650</td>\n",
       "      <td>0.478583</td>\n",
       "      <td>-0.269284</td>\n",
       "      <td>0.313164</td>\n",
       "      <td>-1.031563</td>\n",
       "      <td>0.305851</td>\n",
       "      <td>-0.978081</td>\n",
       "      <td>-0.386957</td>\n",
       "      <td>-0.390699</td>\n",
       "      <td>1.090802</td>\n",
       "      <td>-0.879218</td>\n",
       "      <td>-0.880848</td>\n",
       "      <td>-0.702844</td>\n",
       "    </tr>\n",
       "    <tr>\n",
       "      <th>4</th>\n",
       "      <td>-0.418383</td>\n",
       "      <td>2.034207</td>\n",
       "      <td>-0.548864</td>\n",
       "      <td>1.272862</td>\n",
       "      <td>1.604034</td>\n",
       "      <td>1.586041</td>\n",
       "      <td>-0.904533</td>\n",
       "      <td>-0.921276</td>\n",
       "      <td>-1.087627</td>\n",
       "      <td>-1.017954</td>\n",
       "      <td>0.478583</td>\n",
       "      <td>-1.791465</td>\n",
       "      <td>-0.533411</td>\n",
       "      <td>-0.241419</td>\n",
       "      <td>-0.545255</td>\n",
       "      <td>-0.978081</td>\n",
       "      <td>-0.386957</td>\n",
       "      <td>0.203966</td>\n",
       "      <td>-0.916756</td>\n",
       "      <td>-0.879218</td>\n",
       "      <td>1.135269</td>\n",
       "      <td>-0.702844</td>\n",
       "    </tr>\n",
       "    <tr>\n",
       "      <th>...</th>\n",
       "      <td>...</td>\n",
       "      <td>...</td>\n",
       "      <td>...</td>\n",
       "      <td>...</td>\n",
       "      <td>...</td>\n",
       "      <td>...</td>\n",
       "      <td>...</td>\n",
       "      <td>...</td>\n",
       "      <td>...</td>\n",
       "      <td>...</td>\n",
       "      <td>...</td>\n",
       "      <td>...</td>\n",
       "      <td>...</td>\n",
       "      <td>...</td>\n",
       "      <td>...</td>\n",
       "      <td>...</td>\n",
       "      <td>...</td>\n",
       "      <td>...</td>\n",
       "      <td>...</td>\n",
       "      <td>...</td>\n",
       "      <td>...</td>\n",
       "      <td>...</td>\n",
       "    </tr>\n",
       "    <tr>\n",
       "      <th>77923</th>\n",
       "      <td>-0.021467</td>\n",
       "      <td>-0.554165</td>\n",
       "      <td>0.204281</td>\n",
       "      <td>1.272862</td>\n",
       "      <td>0.174745</td>\n",
       "      <td>1.586041</td>\n",
       "      <td>-0.150855</td>\n",
       "      <td>-0.181293</td>\n",
       "      <td>-0.329532</td>\n",
       "      <td>-0.266152</td>\n",
       "      <td>0.478583</td>\n",
       "      <td>-0.269284</td>\n",
       "      <td>-1.379986</td>\n",
       "      <td>-0.241419</td>\n",
       "      <td>-1.396362</td>\n",
       "      <td>-0.214791</td>\n",
       "      <td>-0.360829</td>\n",
       "      <td>-0.390699</td>\n",
       "      <td>-0.916756</td>\n",
       "      <td>1.137374</td>\n",
       "      <td>-0.880848</td>\n",
       "      <td>-0.702844</td>\n",
       "    </tr>\n",
       "    <tr>\n",
       "      <th>77924</th>\n",
       "      <td>-1.476825</td>\n",
       "      <td>-0.545140</td>\n",
       "      <td>0.204281</td>\n",
       "      <td>0.618504</td>\n",
       "      <td>0.174745</td>\n",
       "      <td>-1.549566</td>\n",
       "      <td>-0.150855</td>\n",
       "      <td>-0.181293</td>\n",
       "      <td>-1.087627</td>\n",
       "      <td>-0.266152</td>\n",
       "      <td>1.255304</td>\n",
       "      <td>-1.791465</td>\n",
       "      <td>-1.379986</td>\n",
       "      <td>0.548725</td>\n",
       "      <td>0.305851</td>\n",
       "      <td>-0.214791</td>\n",
       "      <td>-0.386957</td>\n",
       "      <td>-0.338989</td>\n",
       "      <td>-0.916756</td>\n",
       "      <td>-0.879218</td>\n",
       "      <td>1.135269</td>\n",
       "      <td>-0.702844</td>\n",
       "    </tr>\n",
       "    <tr>\n",
       "      <th>77925</th>\n",
       "      <td>0.441602</td>\n",
       "      <td>0.007434</td>\n",
       "      <td>-1.302010</td>\n",
       "      <td>-0.690214</td>\n",
       "      <td>-0.539899</td>\n",
       "      <td>-0.765664</td>\n",
       "      <td>-1.658211</td>\n",
       "      <td>-1.661260</td>\n",
       "      <td>-1.845723</td>\n",
       "      <td>0.485650</td>\n",
       "      <td>-0.298138</td>\n",
       "      <td>-0.269284</td>\n",
       "      <td>-0.533411</td>\n",
       "      <td>-1.821707</td>\n",
       "      <td>-2.247468</td>\n",
       "      <td>-1.741372</td>\n",
       "      <td>6.406277</td>\n",
       "      <td>6.409165</td>\n",
       "      <td>-0.916756</td>\n",
       "      <td>1.137374</td>\n",
       "      <td>1.135269</td>\n",
       "      <td>1.422791</td>\n",
       "    </tr>\n",
       "    <tr>\n",
       "      <th>77926</th>\n",
       "      <td>-0.153772</td>\n",
       "      <td>-0.872071</td>\n",
       "      <td>1.710572</td>\n",
       "      <td>1.272862</td>\n",
       "      <td>1.604034</td>\n",
       "      <td>1.586041</td>\n",
       "      <td>1.356500</td>\n",
       "      <td>1.298675</td>\n",
       "      <td>1.186660</td>\n",
       "      <td>1.237452</td>\n",
       "      <td>-1.851580</td>\n",
       "      <td>-1.030374</td>\n",
       "      <td>0.313164</td>\n",
       "      <td>-1.821707</td>\n",
       "      <td>-0.545255</td>\n",
       "      <td>1.311790</td>\n",
       "      <td>-0.386957</td>\n",
       "      <td>-0.390699</td>\n",
       "      <td>1.090802</td>\n",
       "      <td>-0.879218</td>\n",
       "      <td>-0.880848</td>\n",
       "      <td>-0.702844</td>\n",
       "    </tr>\n",
       "    <tr>\n",
       "      <th>77927</th>\n",
       "      <td>-1.675283</td>\n",
       "      <td>-0.840982</td>\n",
       "      <td>0.957427</td>\n",
       "      <td>1.272862</td>\n",
       "      <td>0.889389</td>\n",
       "      <td>-0.765664</td>\n",
       "      <td>0.602822</td>\n",
       "      <td>0.558691</td>\n",
       "      <td>0.428564</td>\n",
       "      <td>0.485650</td>\n",
       "      <td>-0.298138</td>\n",
       "      <td>1.252896</td>\n",
       "      <td>1.159738</td>\n",
       "      <td>0.548725</td>\n",
       "      <td>0.305851</td>\n",
       "      <td>0.548500</td>\n",
       "      <td>-0.386957</td>\n",
       "      <td>-0.390699</td>\n",
       "      <td>1.090802</td>\n",
       "      <td>-0.879218</td>\n",
       "      <td>-0.880848</td>\n",
       "      <td>-0.702844</td>\n",
       "    </tr>\n",
       "  </tbody>\n",
       "</table>\n",
       "<p>77928 rows × 22 columns</p>\n",
       "</div>"
      ],
      "text/plain": [
       "            Age  Flight Distance  Inflight wifi service  \\\n",
       "0     -1.873741        -0.589265              -1.302010   \n",
       "1      0.375449        -0.744708               0.957427   \n",
       "2      0.176991        -0.234254               0.957427   \n",
       "3      0.772365        -1.029519               0.204281   \n",
       "4     -0.418383         2.034207              -0.548864   \n",
       "...         ...              ...                    ...   \n",
       "77923 -0.021467        -0.554165               0.204281   \n",
       "77924 -1.476825        -0.545140               0.204281   \n",
       "77925  0.441602         0.007434              -1.302010   \n",
       "77926 -0.153772        -0.872071               1.710572   \n",
       "77927 -1.675283        -0.840982               0.957427   \n",
       "\n",
       "       Departure/Arrival time convenient  Ease of Online booking  \\\n",
       "0                               0.618504               -1.254543   \n",
       "1                               0.618504                0.889389   \n",
       "2                              -1.344572               -1.254543   \n",
       "3                               0.618504                0.174745   \n",
       "4                               1.272862                1.604034   \n",
       "...                                  ...                     ...   \n",
       "77923                           1.272862                0.174745   \n",
       "77924                           0.618504                0.174745   \n",
       "77925                          -0.690214               -0.539899   \n",
       "77926                           1.272862                1.604034   \n",
       "77927                           1.272862                0.889389   \n",
       "\n",
       "       Gate location  Food and drink  Online boarding  Seat comfort  \\\n",
       "0          -1.549566       -0.150855        -1.661260     -0.329532   \n",
       "1           0.802140        1.356500         1.298675      0.428564   \n",
       "2          -1.549566        1.356500        -1.661260      0.428564   \n",
       "3           0.018238       -0.150855        -0.181293      0.428564   \n",
       "4           1.586041       -0.904533        -0.921276     -1.087627   \n",
       "...              ...             ...              ...           ...   \n",
       "77923       1.586041       -0.150855        -0.181293     -0.329532   \n",
       "77924      -1.549566       -0.150855        -0.181293     -1.087627   \n",
       "77925      -0.765664       -1.658211        -1.661260     -1.845723   \n",
       "77926       1.586041        1.356500         1.298675      1.186660   \n",
       "77927      -0.765664        0.602822         0.558691      0.428564   \n",
       "\n",
       "       Inflight entertainment  On-board service  Leg room service  \\\n",
       "0                   -0.266152         -0.298138          0.491806   \n",
       "1                   -1.017954         -1.074859         -1.030374   \n",
       "2                   -0.266152         -0.298138          0.491806   \n",
       "3                    0.485650          0.478583         -0.269284   \n",
       "4                   -1.017954          0.478583         -1.791465   \n",
       "...                       ...               ...               ...   \n",
       "77923               -0.266152          0.478583         -0.269284   \n",
       "77924               -0.266152          1.255304         -1.791465   \n",
       "77925                0.485650         -0.298138         -0.269284   \n",
       "77926                1.237452         -1.851580         -1.030374   \n",
       "77927                0.485650         -0.298138          1.252896   \n",
       "\n",
       "       Baggage handling  Checkin service  Inflight service  Cleanliness  \\\n",
       "0              1.159738         0.548725          0.305851    -0.214791   \n",
       "1             -1.379986         1.338868         -1.396362     1.311790   \n",
       "2             -0.533411         1.338868         -0.545255    -0.978081   \n",
       "3              0.313164        -1.031563          0.305851    -0.978081   \n",
       "4             -0.533411        -0.241419         -0.545255    -0.978081   \n",
       "...                 ...              ...               ...          ...   \n",
       "77923         -1.379986        -0.241419         -1.396362    -0.214791   \n",
       "77924         -1.379986         0.548725          0.305851    -0.214791   \n",
       "77925         -0.533411        -1.821707         -2.247468    -1.741372   \n",
       "77926          0.313164        -1.821707         -0.545255     1.311790   \n",
       "77927          1.159738         0.548725          0.305851     0.548500   \n",
       "\n",
       "       Departure Delay in Minutes  Arrival Delay in Minutes  No_Delays  \\\n",
       "0                       -0.308573                 -0.338989  -0.916756   \n",
       "1                       -0.386957                 -0.390699   1.090802   \n",
       "2                       -0.386957                 -0.390699   1.090802   \n",
       "3                       -0.386957                 -0.390699   1.090802   \n",
       "4                       -0.386957                  0.203966  -0.916756   \n",
       "...                           ...                       ...        ...   \n",
       "77923                   -0.360829                 -0.390699  -0.916756   \n",
       "77924                   -0.386957                 -0.338989  -0.916756   \n",
       "77925                    6.406277                  6.409165  -0.916756   \n",
       "77926                   -0.386957                 -0.390699   1.090802   \n",
       "77927                   -0.386957                 -0.390699   1.090802   \n",
       "\n",
       "       Departure_Delay  Arrival_Delay  2_Delays  \n",
       "0             1.137374       1.135269  1.422791  \n",
       "1            -0.879218      -0.880848 -0.702844  \n",
       "2            -0.879218      -0.880848 -0.702844  \n",
       "3            -0.879218      -0.880848 -0.702844  \n",
       "4            -0.879218       1.135269 -0.702844  \n",
       "...                ...            ...       ...  \n",
       "77923         1.137374      -0.880848 -0.702844  \n",
       "77924        -0.879218       1.135269 -0.702844  \n",
       "77925         1.137374       1.135269  1.422791  \n",
       "77926        -0.879218      -0.880848 -0.702844  \n",
       "77927        -0.879218      -0.880848 -0.702844  \n",
       "\n",
       "[77928 rows x 22 columns]"
      ]
     },
     "execution_count": 365,
     "metadata": {},
     "output_type": "execute_result"
    }
   ],
   "source": [
    "pd.DataFrame(X_train_scaled)"
   ]
  },
  {
   "cell_type": "markdown",
   "metadata": {},
   "source": [
    "### Dummy Categorical Features "
   ]
  },
  {
   "cell_type": "code",
   "execution_count": 366,
   "metadata": {},
   "outputs": [],
   "source": [
    "from sklearn.preprocessing import OneHotEncoder\n",
    "\n",
    "ohe= OneHotEncoder(handle_unknown='error',drop='first')\n",
    "\n",
    "#transforming categorical training and testing data \n",
    "X_train_ohe= ohe.fit_transform(X_train_cat)\n",
    "X_test_ohe= ohe.transform(X_test_cat)\n",
    "\n",
    "#converting columns back to Dataframe, use todense() to return numpy matrix \n",
    "columns= ohe.get_feature_names(input_features= X_train_cat.columns)\n",
    "cat_train_ohe= pd.DataFrame(X_train_ohe.todense(), columns= columns)\n",
    "cat_test_ohe=pd.DataFrame(X_test_ohe.todense(), columns=columns)"
   ]
  },
  {
   "cell_type": "markdown",
   "metadata": {},
   "source": [
    "#### Combining Transformed Categorical and Contiuous Dataframes back together\n"
   ]
  },
  {
   "cell_type": "code",
   "execution_count": 367,
   "metadata": {},
   "outputs": [],
   "source": [
    "X_train_all= pd.concat([pd.DataFrame(X_train_scaled), cat_train_ohe], axis=1)\n",
    "X_test_all= pd.concat([pd.DataFrame(X_test_scaled), cat_test_ohe], axis=1)"
   ]
  },
  {
   "cell_type": "code",
   "execution_count": 368,
   "metadata": {},
   "outputs": [
    {
     "data": {
      "text/html": [
       "<div>\n",
       "<style scoped>\n",
       "    .dataframe tbody tr th:only-of-type {\n",
       "        vertical-align: middle;\n",
       "    }\n",
       "\n",
       "    .dataframe tbody tr th {\n",
       "        vertical-align: top;\n",
       "    }\n",
       "\n",
       "    .dataframe thead th {\n",
       "        text-align: right;\n",
       "    }\n",
       "</style>\n",
       "<table border=\"1\" class=\"dataframe\">\n",
       "  <thead>\n",
       "    <tr style=\"text-align: right;\">\n",
       "      <th></th>\n",
       "      <th>Age</th>\n",
       "      <th>Flight Distance</th>\n",
       "      <th>Inflight wifi service</th>\n",
       "      <th>Departure/Arrival time convenient</th>\n",
       "      <th>Ease of Online booking</th>\n",
       "      <th>Gate location</th>\n",
       "      <th>Food and drink</th>\n",
       "      <th>Online boarding</th>\n",
       "      <th>Seat comfort</th>\n",
       "      <th>Inflight entertainment</th>\n",
       "      <th>On-board service</th>\n",
       "      <th>Leg room service</th>\n",
       "      <th>...</th>\n",
       "      <th>Customer Type_disloyal Customer</th>\n",
       "      <th>Type of Travel_Personal Travel</th>\n",
       "      <th>Class_Eco</th>\n",
       "      <th>Class_Eco Plus</th>\n",
       "      <th>Age__30-39</th>\n",
       "      <th>Age__40-49</th>\n",
       "      <th>Age__50-59</th>\n",
       "      <th>Age__60-69</th>\n",
       "      <th>Age__70+</th>\n",
       "      <th>Age__Under 18</th>\n",
       "      <th>Flight_Length_Medium_Flight</th>\n",
       "      <th>Flight_Length_Short_Flight</th>\n",
       "    </tr>\n",
       "  </thead>\n",
       "  <tbody>\n",
       "    <tr>\n",
       "      <th>0</th>\n",
       "      <td>-1.873741</td>\n",
       "      <td>-0.589265</td>\n",
       "      <td>-1.302010</td>\n",
       "      <td>0.618504</td>\n",
       "      <td>-1.254543</td>\n",
       "      <td>-1.549566</td>\n",
       "      <td>-0.150855</td>\n",
       "      <td>-1.661260</td>\n",
       "      <td>-0.329532</td>\n",
       "      <td>-0.266152</td>\n",
       "      <td>-0.298138</td>\n",
       "      <td>0.491806</td>\n",
       "      <td>...</td>\n",
       "      <td>0.0</td>\n",
       "      <td>1.0</td>\n",
       "      <td>1.0</td>\n",
       "      <td>0.0</td>\n",
       "      <td>0.0</td>\n",
       "      <td>0.0</td>\n",
       "      <td>0.0</td>\n",
       "      <td>0.0</td>\n",
       "      <td>0.0</td>\n",
       "      <td>1.0</td>\n",
       "      <td>0.0</td>\n",
       "      <td>1.0</td>\n",
       "    </tr>\n",
       "    <tr>\n",
       "      <th>1</th>\n",
       "      <td>0.375449</td>\n",
       "      <td>-0.744708</td>\n",
       "      <td>0.957427</td>\n",
       "      <td>0.618504</td>\n",
       "      <td>0.889389</td>\n",
       "      <td>0.802140</td>\n",
       "      <td>1.356500</td>\n",
       "      <td>1.298675</td>\n",
       "      <td>0.428564</td>\n",
       "      <td>-1.017954</td>\n",
       "      <td>-1.074859</td>\n",
       "      <td>-1.030374</td>\n",
       "      <td>...</td>\n",
       "      <td>0.0</td>\n",
       "      <td>0.0</td>\n",
       "      <td>0.0</td>\n",
       "      <td>0.0</td>\n",
       "      <td>0.0</td>\n",
       "      <td>1.0</td>\n",
       "      <td>0.0</td>\n",
       "      <td>0.0</td>\n",
       "      <td>0.0</td>\n",
       "      <td>0.0</td>\n",
       "      <td>0.0</td>\n",
       "      <td>1.0</td>\n",
       "    </tr>\n",
       "    <tr>\n",
       "      <th>2</th>\n",
       "      <td>0.176991</td>\n",
       "      <td>-0.234254</td>\n",
       "      <td>0.957427</td>\n",
       "      <td>-1.344572</td>\n",
       "      <td>-1.254543</td>\n",
       "      <td>-1.549566</td>\n",
       "      <td>1.356500</td>\n",
       "      <td>-1.661260</td>\n",
       "      <td>0.428564</td>\n",
       "      <td>-0.266152</td>\n",
       "      <td>-0.298138</td>\n",
       "      <td>0.491806</td>\n",
       "      <td>...</td>\n",
       "      <td>0.0</td>\n",
       "      <td>0.0</td>\n",
       "      <td>1.0</td>\n",
       "      <td>0.0</td>\n",
       "      <td>0.0</td>\n",
       "      <td>1.0</td>\n",
       "      <td>0.0</td>\n",
       "      <td>0.0</td>\n",
       "      <td>0.0</td>\n",
       "      <td>0.0</td>\n",
       "      <td>1.0</td>\n",
       "      <td>0.0</td>\n",
       "    </tr>\n",
       "    <tr>\n",
       "      <th>3</th>\n",
       "      <td>0.772365</td>\n",
       "      <td>-1.029519</td>\n",
       "      <td>0.204281</td>\n",
       "      <td>0.618504</td>\n",
       "      <td>0.174745</td>\n",
       "      <td>0.018238</td>\n",
       "      <td>-0.150855</td>\n",
       "      <td>-0.181293</td>\n",
       "      <td>0.428564</td>\n",
       "      <td>0.485650</td>\n",
       "      <td>0.478583</td>\n",
       "      <td>-0.269284</td>\n",
       "      <td>...</td>\n",
       "      <td>0.0</td>\n",
       "      <td>1.0</td>\n",
       "      <td>1.0</td>\n",
       "      <td>0.0</td>\n",
       "      <td>0.0</td>\n",
       "      <td>0.0</td>\n",
       "      <td>1.0</td>\n",
       "      <td>0.0</td>\n",
       "      <td>0.0</td>\n",
       "      <td>0.0</td>\n",
       "      <td>0.0</td>\n",
       "      <td>1.0</td>\n",
       "    </tr>\n",
       "    <tr>\n",
       "      <th>4</th>\n",
       "      <td>-0.418383</td>\n",
       "      <td>2.034207</td>\n",
       "      <td>-0.548864</td>\n",
       "      <td>1.272862</td>\n",
       "      <td>1.604034</td>\n",
       "      <td>1.586041</td>\n",
       "      <td>-0.904533</td>\n",
       "      <td>-0.921276</td>\n",
       "      <td>-1.087627</td>\n",
       "      <td>-1.017954</td>\n",
       "      <td>0.478583</td>\n",
       "      <td>-1.791465</td>\n",
       "      <td>...</td>\n",
       "      <td>0.0</td>\n",
       "      <td>0.0</td>\n",
       "      <td>0.0</td>\n",
       "      <td>0.0</td>\n",
       "      <td>1.0</td>\n",
       "      <td>0.0</td>\n",
       "      <td>0.0</td>\n",
       "      <td>0.0</td>\n",
       "      <td>0.0</td>\n",
       "      <td>0.0</td>\n",
       "      <td>0.0</td>\n",
       "      <td>0.0</td>\n",
       "    </tr>\n",
       "    <tr>\n",
       "      <th>...</th>\n",
       "      <td>...</td>\n",
       "      <td>...</td>\n",
       "      <td>...</td>\n",
       "      <td>...</td>\n",
       "      <td>...</td>\n",
       "      <td>...</td>\n",
       "      <td>...</td>\n",
       "      <td>...</td>\n",
       "      <td>...</td>\n",
       "      <td>...</td>\n",
       "      <td>...</td>\n",
       "      <td>...</td>\n",
       "      <td>...</td>\n",
       "      <td>...</td>\n",
       "      <td>...</td>\n",
       "      <td>...</td>\n",
       "      <td>...</td>\n",
       "      <td>...</td>\n",
       "      <td>...</td>\n",
       "      <td>...</td>\n",
       "      <td>...</td>\n",
       "      <td>...</td>\n",
       "      <td>...</td>\n",
       "      <td>...</td>\n",
       "      <td>...</td>\n",
       "    </tr>\n",
       "    <tr>\n",
       "      <th>77923</th>\n",
       "      <td>-0.021467</td>\n",
       "      <td>-0.554165</td>\n",
       "      <td>0.204281</td>\n",
       "      <td>1.272862</td>\n",
       "      <td>0.174745</td>\n",
       "      <td>1.586041</td>\n",
       "      <td>-0.150855</td>\n",
       "      <td>-0.181293</td>\n",
       "      <td>-0.329532</td>\n",
       "      <td>-0.266152</td>\n",
       "      <td>0.478583</td>\n",
       "      <td>-0.269284</td>\n",
       "      <td>...</td>\n",
       "      <td>1.0</td>\n",
       "      <td>0.0</td>\n",
       "      <td>1.0</td>\n",
       "      <td>0.0</td>\n",
       "      <td>1.0</td>\n",
       "      <td>0.0</td>\n",
       "      <td>0.0</td>\n",
       "      <td>0.0</td>\n",
       "      <td>0.0</td>\n",
       "      <td>0.0</td>\n",
       "      <td>0.0</td>\n",
       "      <td>1.0</td>\n",
       "    </tr>\n",
       "    <tr>\n",
       "      <th>77924</th>\n",
       "      <td>-1.476825</td>\n",
       "      <td>-0.545140</td>\n",
       "      <td>0.204281</td>\n",
       "      <td>0.618504</td>\n",
       "      <td>0.174745</td>\n",
       "      <td>-1.549566</td>\n",
       "      <td>-0.150855</td>\n",
       "      <td>-0.181293</td>\n",
       "      <td>-1.087627</td>\n",
       "      <td>-0.266152</td>\n",
       "      <td>1.255304</td>\n",
       "      <td>-1.791465</td>\n",
       "      <td>...</td>\n",
       "      <td>0.0</td>\n",
       "      <td>1.0</td>\n",
       "      <td>1.0</td>\n",
       "      <td>0.0</td>\n",
       "      <td>0.0</td>\n",
       "      <td>0.0</td>\n",
       "      <td>0.0</td>\n",
       "      <td>0.0</td>\n",
       "      <td>0.0</td>\n",
       "      <td>1.0</td>\n",
       "      <td>0.0</td>\n",
       "      <td>1.0</td>\n",
       "    </tr>\n",
       "    <tr>\n",
       "      <th>77925</th>\n",
       "      <td>0.441602</td>\n",
       "      <td>0.007434</td>\n",
       "      <td>-1.302010</td>\n",
       "      <td>-0.690214</td>\n",
       "      <td>-0.539899</td>\n",
       "      <td>-0.765664</td>\n",
       "      <td>-1.658211</td>\n",
       "      <td>-1.661260</td>\n",
       "      <td>-1.845723</td>\n",
       "      <td>0.485650</td>\n",
       "      <td>-0.298138</td>\n",
       "      <td>-0.269284</td>\n",
       "      <td>...</td>\n",
       "      <td>0.0</td>\n",
       "      <td>0.0</td>\n",
       "      <td>1.0</td>\n",
       "      <td>0.0</td>\n",
       "      <td>0.0</td>\n",
       "      <td>1.0</td>\n",
       "      <td>0.0</td>\n",
       "      <td>0.0</td>\n",
       "      <td>0.0</td>\n",
       "      <td>0.0</td>\n",
       "      <td>1.0</td>\n",
       "      <td>0.0</td>\n",
       "    </tr>\n",
       "    <tr>\n",
       "      <th>77926</th>\n",
       "      <td>-0.153772</td>\n",
       "      <td>-0.872071</td>\n",
       "      <td>1.710572</td>\n",
       "      <td>1.272862</td>\n",
       "      <td>1.604034</td>\n",
       "      <td>1.586041</td>\n",
       "      <td>1.356500</td>\n",
       "      <td>1.298675</td>\n",
       "      <td>1.186660</td>\n",
       "      <td>1.237452</td>\n",
       "      <td>-1.851580</td>\n",
       "      <td>-1.030374</td>\n",
       "      <td>...</td>\n",
       "      <td>0.0</td>\n",
       "      <td>0.0</td>\n",
       "      <td>1.0</td>\n",
       "      <td>0.0</td>\n",
       "      <td>1.0</td>\n",
       "      <td>0.0</td>\n",
       "      <td>0.0</td>\n",
       "      <td>0.0</td>\n",
       "      <td>0.0</td>\n",
       "      <td>0.0</td>\n",
       "      <td>0.0</td>\n",
       "      <td>1.0</td>\n",
       "    </tr>\n",
       "    <tr>\n",
       "      <th>77927</th>\n",
       "      <td>-1.675283</td>\n",
       "      <td>-0.840982</td>\n",
       "      <td>0.957427</td>\n",
       "      <td>1.272862</td>\n",
       "      <td>0.889389</td>\n",
       "      <td>-0.765664</td>\n",
       "      <td>0.602822</td>\n",
       "      <td>0.558691</td>\n",
       "      <td>0.428564</td>\n",
       "      <td>0.485650</td>\n",
       "      <td>-0.298138</td>\n",
       "      <td>1.252896</td>\n",
       "      <td>...</td>\n",
       "      <td>0.0</td>\n",
       "      <td>1.0</td>\n",
       "      <td>1.0</td>\n",
       "      <td>0.0</td>\n",
       "      <td>0.0</td>\n",
       "      <td>0.0</td>\n",
       "      <td>0.0</td>\n",
       "      <td>0.0</td>\n",
       "      <td>0.0</td>\n",
       "      <td>1.0</td>\n",
       "      <td>0.0</td>\n",
       "      <td>1.0</td>\n",
       "    </tr>\n",
       "  </tbody>\n",
       "</table>\n",
       "<p>77928 rows × 35 columns</p>\n",
       "</div>"
      ],
      "text/plain": [
       "            Age  Flight Distance  Inflight wifi service  \\\n",
       "0     -1.873741        -0.589265              -1.302010   \n",
       "1      0.375449        -0.744708               0.957427   \n",
       "2      0.176991        -0.234254               0.957427   \n",
       "3      0.772365        -1.029519               0.204281   \n",
       "4     -0.418383         2.034207              -0.548864   \n",
       "...         ...              ...                    ...   \n",
       "77923 -0.021467        -0.554165               0.204281   \n",
       "77924 -1.476825        -0.545140               0.204281   \n",
       "77925  0.441602         0.007434              -1.302010   \n",
       "77926 -0.153772        -0.872071               1.710572   \n",
       "77927 -1.675283        -0.840982               0.957427   \n",
       "\n",
       "       Departure/Arrival time convenient  Ease of Online booking  \\\n",
       "0                               0.618504               -1.254543   \n",
       "1                               0.618504                0.889389   \n",
       "2                              -1.344572               -1.254543   \n",
       "3                               0.618504                0.174745   \n",
       "4                               1.272862                1.604034   \n",
       "...                                  ...                     ...   \n",
       "77923                           1.272862                0.174745   \n",
       "77924                           0.618504                0.174745   \n",
       "77925                          -0.690214               -0.539899   \n",
       "77926                           1.272862                1.604034   \n",
       "77927                           1.272862                0.889389   \n",
       "\n",
       "       Gate location  Food and drink  Online boarding  Seat comfort  \\\n",
       "0          -1.549566       -0.150855        -1.661260     -0.329532   \n",
       "1           0.802140        1.356500         1.298675      0.428564   \n",
       "2          -1.549566        1.356500        -1.661260      0.428564   \n",
       "3           0.018238       -0.150855        -0.181293      0.428564   \n",
       "4           1.586041       -0.904533        -0.921276     -1.087627   \n",
       "...              ...             ...              ...           ...   \n",
       "77923       1.586041       -0.150855        -0.181293     -0.329532   \n",
       "77924      -1.549566       -0.150855        -0.181293     -1.087627   \n",
       "77925      -0.765664       -1.658211        -1.661260     -1.845723   \n",
       "77926       1.586041        1.356500         1.298675      1.186660   \n",
       "77927      -0.765664        0.602822         0.558691      0.428564   \n",
       "\n",
       "       Inflight entertainment  On-board service  Leg room service  ...  \\\n",
       "0                   -0.266152         -0.298138          0.491806  ...   \n",
       "1                   -1.017954         -1.074859         -1.030374  ...   \n",
       "2                   -0.266152         -0.298138          0.491806  ...   \n",
       "3                    0.485650          0.478583         -0.269284  ...   \n",
       "4                   -1.017954          0.478583         -1.791465  ...   \n",
       "...                       ...               ...               ...  ...   \n",
       "77923               -0.266152          0.478583         -0.269284  ...   \n",
       "77924               -0.266152          1.255304         -1.791465  ...   \n",
       "77925                0.485650         -0.298138         -0.269284  ...   \n",
       "77926                1.237452         -1.851580         -1.030374  ...   \n",
       "77927                0.485650         -0.298138          1.252896  ...   \n",
       "\n",
       "       Customer Type_disloyal Customer  Type of Travel_Personal Travel  \\\n",
       "0                                  0.0                             1.0   \n",
       "1                                  0.0                             0.0   \n",
       "2                                  0.0                             0.0   \n",
       "3                                  0.0                             1.0   \n",
       "4                                  0.0                             0.0   \n",
       "...                                ...                             ...   \n",
       "77923                              1.0                             0.0   \n",
       "77924                              0.0                             1.0   \n",
       "77925                              0.0                             0.0   \n",
       "77926                              0.0                             0.0   \n",
       "77927                              0.0                             1.0   \n",
       "\n",
       "       Class_Eco  Class_Eco Plus  Age__30-39  Age__40-49  Age__50-59  \\\n",
       "0            1.0             0.0         0.0         0.0         0.0   \n",
       "1            0.0             0.0         0.0         1.0         0.0   \n",
       "2            1.0             0.0         0.0         1.0         0.0   \n",
       "3            1.0             0.0         0.0         0.0         1.0   \n",
       "4            0.0             0.0         1.0         0.0         0.0   \n",
       "...          ...             ...         ...         ...         ...   \n",
       "77923        1.0             0.0         1.0         0.0         0.0   \n",
       "77924        1.0             0.0         0.0         0.0         0.0   \n",
       "77925        1.0             0.0         0.0         1.0         0.0   \n",
       "77926        1.0             0.0         1.0         0.0         0.0   \n",
       "77927        1.0             0.0         0.0         0.0         0.0   \n",
       "\n",
       "       Age__60-69  Age__70+  Age__Under 18  Flight_Length_Medium_Flight  \\\n",
       "0             0.0       0.0            1.0                          0.0   \n",
       "1             0.0       0.0            0.0                          0.0   \n",
       "2             0.0       0.0            0.0                          1.0   \n",
       "3             0.0       0.0            0.0                          0.0   \n",
       "4             0.0       0.0            0.0                          0.0   \n",
       "...           ...       ...            ...                          ...   \n",
       "77923         0.0       0.0            0.0                          0.0   \n",
       "77924         0.0       0.0            1.0                          0.0   \n",
       "77925         0.0       0.0            0.0                          1.0   \n",
       "77926         0.0       0.0            0.0                          0.0   \n",
       "77927         0.0       0.0            1.0                          0.0   \n",
       "\n",
       "       Flight_Length_Short_Flight  \n",
       "0                             1.0  \n",
       "1                             1.0  \n",
       "2                             0.0  \n",
       "3                             1.0  \n",
       "4                             0.0  \n",
       "...                           ...  \n",
       "77923                         1.0  \n",
       "77924                         1.0  \n",
       "77925                         0.0  \n",
       "77926                         1.0  \n",
       "77927                         1.0  \n",
       "\n",
       "[77928 rows x 35 columns]"
      ]
     },
     "execution_count": 368,
     "metadata": {},
     "output_type": "execute_result"
    }
   ],
   "source": [
    "X_train_all"
   ]
  },
  {
   "cell_type": "code",
   "execution_count": 369,
   "metadata": {
    "scrolled": true
   },
   "outputs": [],
   "source": [
    "X_train= X_train_all\n",
    "X_test= X_test_all"
   ]
  },
  {
   "cell_type": "code",
   "execution_count": 370,
   "metadata": {},
   "outputs": [],
   "source": [
    "from sklearn.linear_model import LogisticRegression\n",
    "from sklearn.model_selection import cross_val_score"
   ]
  },
  {
   "cell_type": "code",
   "execution_count": 371,
   "metadata": {},
   "outputs": [],
   "source": [
    "#instantiating a logistic regression model as baseline model\n",
    "baseline_model= LogisticRegression(random_state=42)\n"
   ]
  },
  {
   "cell_type": "code",
   "execution_count": 372,
   "metadata": {},
   "outputs": [
    {
     "name": "stderr",
     "output_type": "stream",
     "text": [
      "/Users/leratsayukova/opt/anaconda3/lib/python3.8/site-packages/sklearn/utils/validation.py:72: DataConversionWarning: A column-vector y was passed when a 1d array was expected. Please change the shape of y to (n_samples, ), for example using ravel().\n",
      "  return f(**kwargs)\n",
      "/Users/leratsayukova/opt/anaconda3/lib/python3.8/site-packages/sklearn/utils/validation.py:72: DataConversionWarning: A column-vector y was passed when a 1d array was expected. Please change the shape of y to (n_samples, ), for example using ravel().\n",
      "  return f(**kwargs)\n",
      "/Users/leratsayukova/opt/anaconda3/lib/python3.8/site-packages/sklearn/utils/validation.py:72: DataConversionWarning: A column-vector y was passed when a 1d array was expected. Please change the shape of y to (n_samples, ), for example using ravel().\n",
      "  return f(**kwargs)\n",
      "/Users/leratsayukova/opt/anaconda3/lib/python3.8/site-packages/sklearn/linear_model/_logistic.py:762: ConvergenceWarning: lbfgs failed to converge (status=1):\n",
      "STOP: TOTAL NO. of ITERATIONS REACHED LIMIT.\n",
      "\n",
      "Increase the number of iterations (max_iter) or scale the data as shown in:\n",
      "    https://scikit-learn.org/stable/modules/preprocessing.html\n",
      "Please also refer to the documentation for alternative solver options:\n",
      "    https://scikit-learn.org/stable/modules/linear_model.html#logistic-regression\n",
      "  n_iter_i = _check_optimize_result(\n",
      "/Users/leratsayukova/opt/anaconda3/lib/python3.8/site-packages/sklearn/utils/validation.py:72: DataConversionWarning: A column-vector y was passed when a 1d array was expected. Please change the shape of y to (n_samples, ), for example using ravel().\n",
      "  return f(**kwargs)\n",
      "/Users/leratsayukova/opt/anaconda3/lib/python3.8/site-packages/sklearn/utils/validation.py:72: DataConversionWarning: A column-vector y was passed when a 1d array was expected. Please change the shape of y to (n_samples, ), for example using ravel().\n",
      "  return f(**kwargs)\n"
     ]
    },
    {
     "data": {
      "text/plain": [
       "0.3298379714899224"
      ]
     },
     "execution_count": 372,
     "metadata": {},
     "output_type": "execute_result"
    }
   ],
   "source": [
    "\n",
    "# Use cross_val_score with scoring=\"neg_log_loss\" to evaluate the model\n",
    "# on X_train and y_train\n",
    "baseline_neg_log_loss_cv = cross_val_score(estimator = baseline_model,X=X_train_all, y=y_train, scoring = 'neg_log_loss')\n",
    "\n",
    "baseline_log_loss = -(baseline_neg_log_loss_cv.mean())\n",
    "baseline_log_loss\n",
    "\n"
   ]
  },
  {
   "cell_type": "code",
   "execution_count": 373,
   "metadata": {},
   "outputs": [
    {
     "data": {
      "text/plain": [
       "14.947833547566441"
      ]
     },
     "execution_count": 373,
     "metadata": {},
     "output_type": "execute_result"
    }
   ],
   "source": [
    "# Run this cell without changes\n",
    "from sklearn.metrics import log_loss\n",
    "import numpy as np\n",
    "\n",
    "log_loss(y_train, np.zeros(len(y_train)))"
   ]
  },
  {
   "cell_type": "markdown",
   "metadata": {},
   "source": [
    "____"
   ]
  },
  {
   "cell_type": "code",
   "execution_count": 374,
   "metadata": {},
   "outputs": [
    {
     "data": {
      "text/html": [
       "<div>\n",
       "<style scoped>\n",
       "    .dataframe tbody tr th:only-of-type {\n",
       "        vertical-align: middle;\n",
       "    }\n",
       "\n",
       "    .dataframe tbody tr th {\n",
       "        vertical-align: top;\n",
       "    }\n",
       "\n",
       "    .dataframe thead th {\n",
       "        text-align: right;\n",
       "    }\n",
       "</style>\n",
       "<table border=\"1\" class=\"dataframe\">\n",
       "  <thead>\n",
       "    <tr style=\"text-align: right;\">\n",
       "      <th></th>\n",
       "      <th>Gender</th>\n",
       "      <th>Customer Type</th>\n",
       "      <th>Age</th>\n",
       "      <th>Type of Travel</th>\n",
       "      <th>Class</th>\n",
       "      <th>Flight Distance</th>\n",
       "      <th>Inflight wifi service</th>\n",
       "      <th>Departure/Arrival time convenient</th>\n",
       "      <th>Ease of Online booking</th>\n",
       "      <th>Gate location</th>\n",
       "      <th>Food and drink</th>\n",
       "      <th>Online boarding</th>\n",
       "      <th>...</th>\n",
       "      <th>Checkin service</th>\n",
       "      <th>Inflight service</th>\n",
       "      <th>Cleanliness</th>\n",
       "      <th>Departure Delay in Minutes</th>\n",
       "      <th>Arrival Delay in Minutes</th>\n",
       "      <th>satisfaction</th>\n",
       "      <th>Age_</th>\n",
       "      <th>Flight_Length</th>\n",
       "      <th>No_Delays</th>\n",
       "      <th>Departure_Delay</th>\n",
       "      <th>Arrival_Delay</th>\n",
       "      <th>2_Delays</th>\n",
       "    </tr>\n",
       "  </thead>\n",
       "  <tbody>\n",
       "    <tr>\n",
       "      <th>0</th>\n",
       "      <td>Male</td>\n",
       "      <td>Loyal Customer</td>\n",
       "      <td>13</td>\n",
       "      <td>Personal Travel</td>\n",
       "      <td>Eco Plus</td>\n",
       "      <td>460</td>\n",
       "      <td>3</td>\n",
       "      <td>4</td>\n",
       "      <td>3</td>\n",
       "      <td>1</td>\n",
       "      <td>5</td>\n",
       "      <td>3</td>\n",
       "      <td>...</td>\n",
       "      <td>4</td>\n",
       "      <td>5</td>\n",
       "      <td>5</td>\n",
       "      <td>25</td>\n",
       "      <td>18.0</td>\n",
       "      <td>0</td>\n",
       "      <td>Under 18</td>\n",
       "      <td>Short_Flight</td>\n",
       "      <td>0</td>\n",
       "      <td>1</td>\n",
       "      <td>1</td>\n",
       "      <td>1</td>\n",
       "    </tr>\n",
       "    <tr>\n",
       "      <th>1</th>\n",
       "      <td>Male</td>\n",
       "      <td>disloyal Customer</td>\n",
       "      <td>25</td>\n",
       "      <td>Business travel</td>\n",
       "      <td>Business</td>\n",
       "      <td>235</td>\n",
       "      <td>3</td>\n",
       "      <td>2</td>\n",
       "      <td>3</td>\n",
       "      <td>3</td>\n",
       "      <td>1</td>\n",
       "      <td>3</td>\n",
       "      <td>...</td>\n",
       "      <td>1</td>\n",
       "      <td>4</td>\n",
       "      <td>1</td>\n",
       "      <td>1</td>\n",
       "      <td>6.0</td>\n",
       "      <td>0</td>\n",
       "      <td>19-29</td>\n",
       "      <td>Short_Flight</td>\n",
       "      <td>0</td>\n",
       "      <td>1</td>\n",
       "      <td>1</td>\n",
       "      <td>1</td>\n",
       "    </tr>\n",
       "    <tr>\n",
       "      <th>2</th>\n",
       "      <td>Female</td>\n",
       "      <td>Loyal Customer</td>\n",
       "      <td>26</td>\n",
       "      <td>Business travel</td>\n",
       "      <td>Business</td>\n",
       "      <td>1142</td>\n",
       "      <td>2</td>\n",
       "      <td>2</td>\n",
       "      <td>2</td>\n",
       "      <td>2</td>\n",
       "      <td>5</td>\n",
       "      <td>5</td>\n",
       "      <td>...</td>\n",
       "      <td>4</td>\n",
       "      <td>4</td>\n",
       "      <td>5</td>\n",
       "      <td>0</td>\n",
       "      <td>0.0</td>\n",
       "      <td>1</td>\n",
       "      <td>19-29</td>\n",
       "      <td>Medium_Flight</td>\n",
       "      <td>1</td>\n",
       "      <td>0</td>\n",
       "      <td>0</td>\n",
       "      <td>0</td>\n",
       "    </tr>\n",
       "  </tbody>\n",
       "</table>\n",
       "<p>3 rows × 29 columns</p>\n",
       "</div>"
      ],
      "text/plain": [
       "   Gender      Customer Type  Age   Type of Travel     Class  Flight Distance  \\\n",
       "0    Male     Loyal Customer   13  Personal Travel  Eco Plus              460   \n",
       "1    Male  disloyal Customer   25  Business travel  Business              235   \n",
       "2  Female     Loyal Customer   26  Business travel  Business             1142   \n",
       "\n",
       "   Inflight wifi service  Departure/Arrival time convenient  \\\n",
       "0                      3                                  4   \n",
       "1                      3                                  2   \n",
       "2                      2                                  2   \n",
       "\n",
       "   Ease of Online booking  Gate location  Food and drink  Online boarding  \\\n",
       "0                       3              1               5                3   \n",
       "1                       3              3               1                3   \n",
       "2                       2              2               5                5   \n",
       "\n",
       "   ...  Checkin service  Inflight service  Cleanliness  \\\n",
       "0  ...                4                 5            5   \n",
       "1  ...                1                 4            1   \n",
       "2  ...                4                 4            5   \n",
       "\n",
       "   Departure Delay in Minutes  Arrival Delay in Minutes  satisfaction  \\\n",
       "0                          25                      18.0             0   \n",
       "1                           1                       6.0             0   \n",
       "2                           0                       0.0             1   \n",
       "\n",
       "       Age_  Flight_Length  No_Delays  Departure_Delay  Arrival_Delay 2_Delays  \n",
       "0  Under 18   Short_Flight          0                1              1        1  \n",
       "1     19-29   Short_Flight          0                1              1        1  \n",
       "2     19-29  Medium_Flight          1                0              0        0  \n",
       "\n",
       "[3 rows x 29 columns]"
      ]
     },
     "execution_count": 374,
     "metadata": {},
     "output_type": "execute_result"
    }
   ],
   "source": [
    "df.head(3)"
   ]
  },
  {
   "cell_type": "markdown",
   "metadata": {},
   "source": [
    "This dataset has the following columns:\n",
    "\n",
    "| Variable | Definition | Key |\n",
    "| -------- | ---------- | --- |\n",
    "| Satisfaction |  | 0 = Dissatisfied, 1 = Satisfied |\n",
    "| Gender | M/F | Male, Female |\n",
    "| Customer Type | Loyal/Disloyal||\n",
    "| Age | Age in years | |\n",
    "| Type of Travel | Personal/Business | |\n",
    "| Class | Ticket class | Eco/Eco Plus/Business|\n",
    "| Flight Distance | # length of flight(miles) | Short<800/800-2200/Long>2200 | \n",
    "\n",
    "| Variable | Definition | Key |\n",
    "| -------- | ---------- | --- |\n",
    "| Inflight wifi | wifi when available | 1-5, 5=best 0= n/a | \n",
    "| Departure/Arrival time convenient |  | 1-5, 5=best 0= n/a |\n",
    "| Ease of Online Booking |  |1-5 5=best 0= n/a |\n",
    "| Gate Location |  |1-5 5=best  |\n",
    "| Food and Drink |  | rated 1-5, 5 best 0= n/a |\n",
    "| Online Boarding |  |  rated 1-5, 5 best 0= n/a|\n",
    "| Seat Comfort |  |rated 1-5, 5 best |\n",
    "| Inflight Entertainment |  | rated 1-5, 5=best 0= n/a  |\n",
    "| Onboard Service | | rated 1-5, 5=best  |\n",
    "| Checkin Service |  | rated 1-5, 5=best |\n",
    "| Inflight Service | | rated 1-5, 5=best |\n",
    "| Cleanliness |  |rated 1-5, 5=best  |\n",
    "| Departure Delay in Minutes |  | |\n",
    "| Arrival Delay in Minutes |  | |\n"
   ]
  },
  {
   "cell_type": "code",
   "execution_count": 375,
   "metadata": {},
   "outputs": [
    {
     "data": {
      "image/png": "[encoded data removed]",
      "text/plain": [
       "<Figure size 900x900 with 30 Axes>"
      ]
     },
     "metadata": {},
     "output_type": "display_data"
    }
   ],
   "source": [
    "numeric= X_train.select_dtypes(exclude=object).columns.tolist()[:5]\n",
    "# numeric_df= X_train[numeric]\n",
    "sns.pairplot(X_train[numeric]);\n"
   ]
  },
  {
   "cell_type": "code",
   "execution_count": 455,
   "metadata": {
    "scrolled": true
   },
   "outputs": [
    {
     "data": {
      "text/plain": [
       "(77928, 1)"
      ]
     },
     "execution_count": 455,
     "metadata": {},
     "output_type": "execute_result"
    }
   ],
   "source": [
    "y_train.shape"
   ]
  },
  {
   "cell_type": "code",
   "execution_count": 451,
   "metadata": {},
   "outputs": [],
   "source": [
    "y_test= np.array(y_test)"
   ]
  },
  {
   "cell_type": "markdown",
   "metadata": {},
   "source": [
    "_____"
   ]
  },
  {
   "cell_type": "markdown",
   "metadata": {},
   "source": [
    "### Model 1: Dummy Model"
   ]
  },
  {
   "cell_type": "code",
   "execution_count": 376,
   "metadata": {},
   "outputs": [],
   "source": [
    "from sklearn.dummy import DummyClassifier"
   ]
  },
  {
   "cell_type": "code",
   "execution_count": 377,
   "metadata": {},
   "outputs": [],
   "source": [
    "#instantiating the model\n",
    "dummy_model= DummyClassifier(strategy= 'most_frequent')"
   ]
  },
  {
   "cell_type": "code",
   "execution_count": 378,
   "metadata": {},
   "outputs": [
    {
     "data": {
      "text/plain": [
       "DummyClassifier(strategy='most_frequent')"
      ]
     },
     "execution_count": 378,
     "metadata": {},
     "output_type": "execute_result"
    }
   ],
   "source": [
    "#fitting the model\n",
    "dummy_model.fit(X_train, y_train)"
   ]
  },
  {
   "cell_type": "code",
   "execution_count": 379,
   "metadata": {},
   "outputs": [
    {
     "name": "stdout",
     "output_type": "stream",
     "text": [
      "Cross Validation Results:  [0.56723983 0.56723983 0.56717567 0.56721206 0.56721206]\n"
     ]
    }
   ],
   "source": [
    "#predicing with model\n",
    "dm_train= dummy_model.predict(X_train)\n",
    "dm_test= dummy_model.predict(X_test)\n",
    "cv_results = cross_val_score(dummy_model, X_train, y_train, cv=5)\n",
    "print(\"Cross Validation Results: \", cv_results)"
   ]
  },
  {
   "cell_type": "code",
   "execution_count": 380,
   "metadata": {},
   "outputs": [],
   "source": [
    "#get accuracy scores\n",
    "dm_train = accuracy_score(y_train, dm_train)\n",
    "dm_test = accuracy_score(y_test, dm_test)"
   ]
  },
  {
   "cell_type": "code",
   "execution_count": 381,
   "metadata": {
    "scrolled": true
   },
   "outputs": [
    {
     "data": {
      "text/html": [
       "<div>\n",
       "<style scoped>\n",
       "    .dataframe tbody tr th:only-of-type {\n",
       "        vertical-align: middle;\n",
       "    }\n",
       "\n",
       "    .dataframe tbody tr th {\n",
       "        vertical-align: top;\n",
       "    }\n",
       "\n",
       "    .dataframe thead th {\n",
       "        text-align: right;\n",
       "    }\n",
       "</style>\n",
       "<table border=\"1\" class=\"dataframe\">\n",
       "  <thead>\n",
       "    <tr style=\"text-align: right;\">\n",
       "      <th></th>\n",
       "      <th>Model</th>\n",
       "      <th>Train</th>\n",
       "      <th>Test</th>\n",
       "    </tr>\n",
       "  </thead>\n",
       "  <tbody>\n",
       "    <tr>\n",
       "      <th>0</th>\n",
       "      <td>Dummy Model</td>\n",
       "      <td>0.567216</td>\n",
       "      <td>0.565022</td>\n",
       "    </tr>\n",
       "  </tbody>\n",
       "</table>\n",
       "</div>"
      ],
      "text/plain": [
       "         Model     Train      Test\n",
       "0  Dummy Model  0.567216  0.565022"
      ]
     },
     "execution_count": 381,
     "metadata": {},
     "output_type": "execute_result"
    }
   ],
   "source": [
    "#create DataFrame of scores\n",
    "scores = pd.DataFrame([['Dummy Model', dm_train, dm_test]],\n",
    "               columns = ['Model', 'Train', 'Test'])\n",
    "scores"
   ]
  },
  {
   "cell_type": "markdown",
   "metadata": {},
   "source": [
    "Mean accuracy is 56% if we always guess the majority class (Dissatisfied)."
   ]
  },
  {
   "cell_type": "code",
   "execution_count": 382,
   "metadata": {
    "scrolled": true
   },
   "outputs": [
    {
     "data": {
      "image/png": "[encoded data removed]",
      "text/plain": [
       "<Figure size 576x576 with 2 Axes>"
      ]
     },
     "metadata": {},
     "output_type": "display_data"
    }
   ],
   "source": [
    "fig, ax = plt.subplots()\n",
    "\n",
    "fig.suptitle(\"Dummy Model Classifier\")\n",
    "\n",
    "plot_confusion_matrix(dummy_model, X_train, y_train, ax=ax, cmap=\"Blues_r\")\n",
    "\n",
    "plt.savefig('dummy_cm.png');"
   ]
  },
  {
   "cell_type": "markdown",
   "metadata": {},
   "source": [
    "___"
   ]
  },
  {
   "cell_type": "markdown",
   "metadata": {},
   "source": [
    "### Model 2: Logistic Regression"
   ]
  },
  {
   "cell_type": "code",
   "execution_count": 452,
   "metadata": {},
   "outputs": [
    {
     "name": "stderr",
     "output_type": "stream",
     "text": [
      "/Users/leratsayukova/opt/anaconda3/lib/python3.8/site-packages/sklearn/utils/validation.py:72: DataConversionWarning: A column-vector y was passed when a 1d array was expected. Please change the shape of y to (n_samples, ), for example using ravel().\n",
      "  return f(**kwargs)\n"
     ]
    },
    {
     "data": {
      "text/plain": [
       "array([0, 1, 1, ..., 0, 1, 0])"
      ]
     },
     "execution_count": 452,
     "metadata": {},
     "output_type": "execute_result"
    }
   ],
   "source": [
    "from sklearn.linear_model import LogisticRegression\n",
    "\n",
    "simple_lr_model= LogisticRegression(random_state=42, penalty= \"none\")\n",
    "simple_lr_model.fit(X_train, y_train)\n",
    "simple_lr_model.predict(X_train)"
   ]
  },
  {
   "cell_type": "code",
   "execution_count": 384,
   "metadata": {},
   "outputs": [
    {
     "data": {
      "text/plain": [
       "(77928, 1)"
      ]
     },
     "execution_count": 384,
     "metadata": {},
     "output_type": "execute_result"
    }
   ],
   "source": [
    "y_train.shape"
   ]
  },
  {
   "cell_type": "code",
   "execution_count": 385,
   "metadata": {},
   "outputs": [],
   "source": [
    "lr_pred_train= simple_lr_model.predict(X_train)\n",
    "lr_pred_test= simple_lr_model.predict(X_test)"
   ]
  },
  {
   "cell_type": "code",
   "execution_count": 386,
   "metadata": {},
   "outputs": [],
   "source": [
    "\n",
    "#get accuracy scores\n",
    "lg_train = accuracy_score(y_train, lr_pred_train)\n",
    "lg_test = accuracy_score(y_test, lr_pred_test)"
   ]
  },
  {
   "cell_type": "code",
   "execution_count": 387,
   "metadata": {},
   "outputs": [
    {
     "data": {
      "text/html": [
       "<div>\n",
       "<style scoped>\n",
       "    .dataframe tbody tr th:only-of-type {\n",
       "        vertical-align: middle;\n",
       "    }\n",
       "\n",
       "    .dataframe tbody tr th {\n",
       "        vertical-align: top;\n",
       "    }\n",
       "\n",
       "    .dataframe thead th {\n",
       "        text-align: right;\n",
       "    }\n",
       "</style>\n",
       "<table border=\"1\" class=\"dataframe\">\n",
       "  <thead>\n",
       "    <tr style=\"text-align: right;\">\n",
       "      <th></th>\n",
       "      <th>Model</th>\n",
       "      <th>Train</th>\n",
       "      <th>Test</th>\n",
       "    </tr>\n",
       "  </thead>\n",
       "  <tbody>\n",
       "    <tr>\n",
       "      <th>0</th>\n",
       "      <td>Dummy Model</td>\n",
       "      <td>0.567216</td>\n",
       "      <td>0.565022</td>\n",
       "    </tr>\n",
       "    <tr>\n",
       "      <th>1</th>\n",
       "      <td>Logistic Regression</td>\n",
       "      <td>0.876899</td>\n",
       "      <td>0.876732</td>\n",
       "    </tr>\n",
       "  </tbody>\n",
       "</table>\n",
       "</div>"
      ],
      "text/plain": [
       "                 Model     Train      Test\n",
       "0          Dummy Model  0.567216  0.565022\n",
       "1  Logistic Regression  0.876899  0.876732"
      ]
     },
     "execution_count": 387,
     "metadata": {},
     "output_type": "execute_result"
    }
   ],
   "source": [
    "\n",
    "#add scores\n",
    "lg_model = pd.DataFrame([['Logistic Regression', lg_train, lg_test]],\n",
    "               columns = ['Model', 'Train', 'Test'])\n",
    "scores = scores.append(lg_model, ignore_index = True)\n",
    "scores"
   ]
  },
  {
   "cell_type": "code",
   "execution_count": 457,
   "metadata": {
    "scrolled": true
   },
   "outputs": [
    {
     "name": "stderr",
     "output_type": "stream",
     "text": [
      "/Users/leratsayukova/opt/anaconda3/lib/python3.8/site-packages/sklearn/utils/validation.py:72: DataConversionWarning: A column-vector y was passed when a 1d array was expected. Please change the shape of y to (n_samples, ), for example using ravel().\n",
      "  return f(**kwargs)\n"
     ]
    },
    {
     "data": {
      "text/plain": [
       "(0.8768606919207473, 0.8766938712657838)"
      ]
     },
     "execution_count": 457,
     "metadata": {},
     "output_type": "execute_result"
    }
   ],
   "source": [
    "#Another Logistic Regression model with penalty of 12(default)\n",
    "Log_reg2= LogisticRegression(random_state=42, solver= 'liblinear')\n",
    "\n",
    "Log_reg2.fit(X_train, y_train)\n",
    "lr2_pred_train= Log_reg2.predict(X_train)\n",
    "lr2_pred_test= Log_reg2.predict(X_test)\n",
    "\n",
    "lr2_train= accuracy_score(y_train, lr2_pred_train)\n",
    "lr2_test= accuracy_score(y_test, lr2_pred_test)\n",
    "\n",
    "lr2_train, lr2_test"
   ]
  },
  {
   "cell_type": "markdown",
   "metadata": {},
   "source": [
    "This model actually did worse than the original Logistic Regression Model..\n",
    "Did not add to the scores DataFrame"
   ]
  },
  {
   "cell_type": "markdown",
   "metadata": {},
   "source": [
    "____"
   ]
  },
  {
   "cell_type": "markdown",
   "metadata": {},
   "source": [
    "### Model 3:  Decision Tree"
   ]
  },
  {
   "cell_type": "code",
   "execution_count": 388,
   "metadata": {},
   "outputs": [],
   "source": [
    "from sklearn.tree import DecisionTreeClassifier, plot_tree \n",
    "from sklearn.metrics import accuracy_score, plot_roc_curve, plot_confusion_matrix"
   ]
  },
  {
   "cell_type": "code",
   "execution_count": 389,
   "metadata": {},
   "outputs": [
    {
     "data": {
      "text/plain": [
       "DecisionTreeClassifier()"
      ]
     },
     "execution_count": 389,
     "metadata": {},
     "output_type": "execute_result"
    }
   ],
   "source": [
    "tree_clf= DecisionTreeClassifier(max_depth=None)\n",
    "tree_clf.fit(X_train, y_train)"
   ]
  },
  {
   "cell_type": "code",
   "execution_count": 390,
   "metadata": {},
   "outputs": [
    {
     "name": "stdout",
     "output_type": "stream",
     "text": [
      "Accurarcy:  0.942754850631352\n"
     ]
    }
   ],
   "source": [
    "acc= metrics.accuracy_score(y_test, y_pred)\n",
    "print('Accurarcy: ', acc)"
   ]
  },
  {
   "cell_type": "code",
   "execution_count": 391,
   "metadata": {},
   "outputs": [
    {
     "data": {
      "text/html": [
       "<div>\n",
       "<style scoped>\n",
       "    .dataframe tbody tr th:only-of-type {\n",
       "        vertical-align: middle;\n",
       "    }\n",
       "\n",
       "    .dataframe tbody tr th {\n",
       "        vertical-align: top;\n",
       "    }\n",
       "\n",
       "    .dataframe thead th {\n",
       "        text-align: right;\n",
       "    }\n",
       "</style>\n",
       "<table border=\"1\" class=\"dataframe\">\n",
       "  <thead>\n",
       "    <tr style=\"text-align: right;\">\n",
       "      <th></th>\n",
       "      <th>Model</th>\n",
       "      <th>Train</th>\n",
       "      <th>Test</th>\n",
       "    </tr>\n",
       "  </thead>\n",
       "  <tbody>\n",
       "    <tr>\n",
       "      <th>0</th>\n",
       "      <td>Dummy Model</td>\n",
       "      <td>0.567216</td>\n",
       "      <td>0.565022</td>\n",
       "    </tr>\n",
       "    <tr>\n",
       "      <th>1</th>\n",
       "      <td>Logistic Regression</td>\n",
       "      <td>0.876899</td>\n",
       "      <td>0.876732</td>\n",
       "    </tr>\n",
       "    <tr>\n",
       "      <th>2</th>\n",
       "      <td>Decision Tree</td>\n",
       "      <td>1.000000</td>\n",
       "      <td>0.944102</td>\n",
       "    </tr>\n",
       "  </tbody>\n",
       "</table>\n",
       "</div>"
      ],
      "text/plain": [
       "                 Model     Train      Test\n",
       "0          Dummy Model  0.567216  0.565022\n",
       "1  Logistic Regression  0.876899  0.876732\n",
       "2        Decision Tree  1.000000  0.944102"
      ]
     },
     "execution_count": 391,
     "metadata": {},
     "output_type": "execute_result"
    }
   ],
   "source": [
    "\n",
    "#predict on Decision Tree model\n",
    "tree_pred_train = tree_clf.predict(X_train)\n",
    "tree_pred_test = tree_clf.predict(X_test)\n",
    "\n",
    "#get accuracy score\n",
    "tree_train = accuracy_score(y_train, tree_pred_train)\n",
    "tree_test = accuracy_score(y_test, tree_pred_test)\n",
    "\n",
    "#append scores \n",
    "tree_model = pd.DataFrame([['Decision Tree', tree_train, tree_test]],\n",
    "               columns = ['Model', 'Train', 'Test'])\n",
    "scores = scores.append(tree_model, ignore_index = True)\n",
    "scores"
   ]
  },
  {
   "cell_type": "code",
   "execution_count": 392,
   "metadata": {},
   "outputs": [
    {
     "data": {
      "text/plain": [
       "array([0, 0, 0, ..., 1, 0, 0])"
      ]
     },
     "execution_count": 392,
     "metadata": {},
     "output_type": "execute_result"
    }
   ],
   "source": [
    "y_pred= tree_clf.predict(X_test)\n",
    "y_pred"
   ]
  },
  {
   "cell_type": "code",
   "execution_count": 393,
   "metadata": {},
   "outputs": [
    {
     "data": {
      "image/png": "[encoded data removed]",
      "text/plain": [
       "<Figure size 576x576 with 2 Axes>"
      ]
     },
     "metadata": {},
     "output_type": "display_data"
    }
   ],
   "source": [
    "plot_confusion_matrix(tree_clf, X_test, y_test);"
   ]
  },
  {
   "cell_type": "code",
   "execution_count": 394,
   "metadata": {},
   "outputs": [
    {
     "name": "stdout",
     "output_type": "stream",
     "text": [
      "7.58326065733678e-05 Age__70+\n",
      "0.00020031959064477085 Age__Under 18\n",
      "0.00041774030407504324 Age__60-69\n",
      "0.00046005378993207253 Departure_Delay\n",
      "0.0005739885649885206 Flight_Length_Short_Flight\n",
      "0.0008362682134675884 Arrival_Delay\n",
      "0.0008635146936633818 2_Delays\n",
      "0.0009527005678603155 Flight_Length_Medium_Flight\n",
      "0.0010776509886157772 Age__50-59\n",
      "0.0011144520646562532 No_Delays\n",
      "0.0013103888947370258 Age__40-49\n",
      "0.0015309395533848994 Class_Eco Plus\n",
      "0.001810172972758258 Gender_Male\n",
      "0.002798040364891281 Age__30-39\n",
      "0.0036415756420850997 Ease of Online booking\n",
      "0.004352812470124016 Departure/Arrival time convenient\n",
      "0.004763991997712033 Food and drink\n",
      "0.006424148456427341 Departure Delay in Minutes\n",
      "0.008206973805127896 Arrival Delay in Minutes\n",
      "0.00858489338487127 On-board service\n",
      "0.009262732766412464 Cleanliness\n",
      "0.013246990284518404 Class_Eco\n",
      "0.016571620690138334 Seat comfort\n",
      "0.016936424709574738 Inflight service\n",
      "0.017294827323702928 Gate location\n",
      "0.0189787761489725 Baggage handling\n",
      "0.020261641716957206 Age\n",
      "0.0213251224346065 Leg room service\n",
      "0.021513760648282313 Flight Distance\n",
      "0.02916598837867409 Checkin service\n",
      "0.03106638658019995 Customer Type_disloyal Customer\n",
      "0.04249947580335587 Inflight entertainment\n",
      "0.14876897852895915 Type of Travel_Personal Travel\n",
      "0.17753653292180302 Inflight wifi service\n",
      "0.36557428213724624 Online boarding\n"
     ]
    }
   ],
   "source": [
    "\n",
    "for fi, feature in sorted(zip(tree_clf.feature_importances_, X_train.columns.tolist())):\n",
    "    print(fi, feature)"
   ]
  },
  {
   "cell_type": "markdown",
   "metadata": {},
   "source": [
    "### Fitting a Random Forest Classifier"
   ]
  },
  {
   "cell_type": "code",
   "execution_count": 395,
   "metadata": {},
   "outputs": [],
   "source": [
    "from sklearn.ensemble import RandomForestClassifier\n",
    "rfc = RandomForestClassifier()"
   ]
  },
  {
   "cell_type": "code",
   "execution_count": 396,
   "metadata": {},
   "outputs": [],
   "source": [
    "from sklearn.model_selection import GridSearchCV"
   ]
  },
  {
   "cell_type": "code",
   "execution_count": 397,
   "metadata": {},
   "outputs": [],
   "source": [
    "param_grid = {\n",
    "    'n_estimators': [300, 700],\n",
    "    'max_leaf_nodes': [10, 20],\n",
    "    'criterion': ['gini'],\n",
    "#     'min_samples_leaf':range(3,5),\n",
    "    'max_depth': [None, 3,6],\n",
    "    'max_features': [5,20]}"
   ]
  },
  {
   "cell_type": "code",
   "execution_count": 398,
   "metadata": {},
   "outputs": [],
   "source": [
    "grid_tree=GridSearchCV(RandomForestClassifier(), param_grid, cv=5, scoring='f1', verbose=1, n_jobs=-1)\n"
   ]
  },
  {
   "cell_type": "code",
   "execution_count": 401,
   "metadata": {
    "scrolled": false
   },
   "outputs": [
    {
     "name": "stdout",
     "output_type": "stream",
     "text": [
      "Fitting 5 folds for each of 48 candidates, totalling 240 fits\n"
     ]
    },
    {
     "name": "stderr",
     "output_type": "stream",
     "text": [
      "[Parallel(n_jobs=-1)]: Using backend LokyBackend with 8 concurrent workers.\n",
      "[Parallel(n_jobs=-1)]: Done  34 tasks      | elapsed:  5.5min\n",
      "[Parallel(n_jobs=-1)]: Done 184 tasks      | elapsed: 41.9min\n",
      "[Parallel(n_jobs=-1)]: Done 240 out of 240 | elapsed: 63.9min finished\n",
      "/Users/leratsayukova/opt/anaconda3/lib/python3.8/site-packages/sklearn/model_selection/_search.py:765: DataConversionWarning: A column-vector y was passed when a 1d array was expected. Please change the shape of y to (n_samples,), for example using ravel().\n",
      "  self.best_estimator_.fit(X, y, **fit_params)\n"
     ]
    },
    {
     "data": {
      "text/plain": [
       "GridSearchCV(cv=5, estimator=RandomForestClassifier(), n_jobs=-1,\n",
       "             param_grid={'criterion': ['gini'], 'max_depth': [None, 3, 6],\n",
       "                         'max_features': [5, 10, 20, 30],\n",
       "                         'max_leaf_nodes': [10, 20],\n",
       "                         'n_estimators': [100, 1000]},\n",
       "             scoring='f1', verbose=1)"
      ]
     },
     "execution_count": 401,
     "metadata": {},
     "output_type": "execute_result"
    }
   ],
   "source": [
    "grid_tree.fit(X_train, y_train)"
   ]
  },
  {
   "cell_type": "code",
   "execution_count": 402,
   "metadata": {},
   "outputs": [
    {
     "data": {
      "text/plain": [
       "0.920167139640526"
      ]
     },
     "execution_count": 402,
     "metadata": {},
     "output_type": "execute_result"
    }
   ],
   "source": [
    "grid_tree.best_score_"
   ]
  },
  {
   "cell_type": "code",
   "execution_count": 403,
   "metadata": {
    "scrolled": true
   },
   "outputs": [
    {
     "data": {
      "text/plain": [
       "{'criterion': 'gini',\n",
       " 'max_depth': None,\n",
       " 'max_features': 30,\n",
       " 'max_leaf_nodes': 20,\n",
       " 'n_estimators': 1000}"
      ]
     },
     "execution_count": 403,
     "metadata": {},
     "output_type": "execute_result"
    }
   ],
   "source": [
    "grid_tree.best_params_"
   ]
  },
  {
   "cell_type": "code",
   "execution_count": 404,
   "metadata": {},
   "outputs": [
    {
     "data": {
      "text/plain": [
       "RandomForestClassifier(max_features=30, max_leaf_nodes=20, n_estimators=1000)"
      ]
     },
     "execution_count": 404,
     "metadata": {},
     "output_type": "execute_result"
    }
   ],
   "source": [
    "grid_tree.best_estimator_"
   ]
  },
  {
   "cell_type": "code",
   "execution_count": 405,
   "metadata": {},
   "outputs": [],
   "source": [
    "from sklearn import metrics"
   ]
  },
  {
   "cell_type": "code",
   "execution_count": 406,
   "metadata": {
    "scrolled": true
   },
   "outputs": [
    {
     "name": "stderr",
     "output_type": "stream",
     "text": [
      "<ipython-input-406-e5f9743bb975>:3: DataConversionWarning: A column-vector y was passed when a 1d array was expected. Please change the shape of y to (n_samples,), for example using ravel().\n",
      "  rfc.fit(X_train,y_train)\n"
     ]
    },
    {
     "data": {
      "text/plain": [
       "(0.9630813058207576, 0.9728370221327968)"
      ]
     },
     "execution_count": 406,
     "metadata": {},
     "output_type": "execute_result"
    }
   ],
   "source": [
    "rfc= RandomForestClassifier(n_estimators=300, max_depth=None, max_features=20)\n",
    "\n",
    "rfc.fit(X_train,y_train)\n",
    "\n",
    "rfc_preds= rfc.predict(X_test)\n",
    "\n",
    "rfc_accuracy= metrics.accuracy_score(y_test, rfc_preds)\n",
    "rfc_precision= metrics.precision_score(y_test, rfc_preds)\n",
    "rfc_accuracy, rfc_precision                  "
   ]
  },
  {
   "cell_type": "code",
   "execution_count": 407,
   "metadata": {
    "scrolled": true
   },
   "outputs": [
    {
     "name": "stderr",
     "output_type": "stream",
     "text": [
      "<ipython-input-407-1b1bb4e44575>:3: DataConversionWarning: A column-vector y was passed when a 1d array was expected. Please change the shape of y to (n_samples,), for example using ravel().\n",
      "  rfc.fit(X_train,y_train)\n"
     ]
    },
    {
     "data": {
      "text/plain": [
       "(0.9625423467816446, 0.9732355637030248)"
      ]
     },
     "execution_count": 407,
     "metadata": {},
     "output_type": "execute_result"
    }
   ],
   "source": [
    "rfc= RandomForestClassifier(n_estimators=300, max_depth=None, max_features=10)\n",
    "\n",
    "rfc.fit(X_train,y_train)\n",
    "\n",
    "rfc_preds= rfc.predict(X_test)\n",
    "\n",
    "rfc_accuracy= metrics.accuracy_score(y_test, rfc_preds)\n",
    "rfc_precision= metrics.precision_score(y_test, rfc_preds)\n",
    "rfc_accuracy, rfc_precision     "
   ]
  },
  {
   "cell_type": "code",
   "execution_count": 437,
   "metadata": {},
   "outputs": [
    {
     "data": {
      "image/png": "[encoded data removed]",
      "text/plain": [
       "<Figure size 576x576 with 2 Axes>"
      ]
     },
     "metadata": {},
     "output_type": "display_data"
    }
   ],
   "source": [
    "plot_confusion_matrix(rfc, X_test, y_test, cmap=\"ocean_r\")\n",
    "plt.savefig('cm_2.png')"
   ]
  },
  {
   "cell_type": "code",
   "execution_count": null,
   "metadata": {},
   "outputs": [],
   "source": [
    "#instantiate with best params model need to run again\n",
    "gs_rfc = grid_tree.best_estimator_"
   ]
  },
  {
   "cell_type": "code",
   "execution_count": null,
   "metadata": {},
   "outputs": [],
   "source": [
    "#predict on GC Random Forest Classifier\n",
    "gs_rfc_pred_train = gs_rfc.predict(X_train)\n",
    "gs_rfc_pred_test = gs_rfc.predict(X_test)"
   ]
  },
  {
   "cell_type": "code",
   "execution_count": null,
   "metadata": {},
   "outputs": [],
   "source": [
    "#get accuracy score\n",
    "gs_rfc_train = accuracy_score(y_train, gs_rfc_pred_train)\n",
    "gs_rfc_test = accuracy_score(y_test, gs_rfc_pred_test)"
   ]
  },
  {
   "cell_type": "code",
   "execution_count": null,
   "metadata": {
    "scrolled": true
   },
   "outputs": [],
   "source": [
    "#add scores to df\n",
    "gs_rf_model = pd.DataFrame([['Grid Search Random Forest', gs_rfc_train, gs_rfc_test]],\n",
    "               columns = ['Model', 'Train', 'Test'])\n",
    "scores = scores.append(gs_rf_model, ignore_index = True)\n",
    "scores"
   ]
  },
  {
   "cell_type": "code",
   "execution_count": null,
   "metadata": {},
   "outputs": [],
   "source": [
    "scores\n"
   ]
  },
  {
   "cell_type": "code",
   "execution_count": null,
   "metadata": {},
   "outputs": [],
   "source": [
    "feat_import = {name: score \n",
    "                   for name, score \n",
    "                       in zip(X_train.columns, rfc.feature_importances_)\n",
    "}\n",
    "feat_import"
   ]
  },
  {
   "cell_type": "code",
   "execution_count": null,
   "metadata": {},
   "outputs": [],
   "source": [
    "len(X_test)"
   ]
  },
  {
   "cell_type": "code",
   "execution_count": null,
   "metadata": {},
   "outputs": [],
   "source": [
    "df.columns"
   ]
  },
  {
   "cell_type": "code",
   "execution_count": null,
   "metadata": {},
   "outputs": [],
   "source": [
    "\n",
    "plt.figure(figsize = (10, 8))\n",
    "sns.set_style(\"white\")\n",
    "sns.kdeplot(df.query('satisfaction == 1')['Age'], shade = True, label = 'Satisfied', alpha = 0.5)\n",
    "sns.kdeplot(df.query('satisfaction == 0')['Age'], shade = True, label = \"Disatisfied/Neutral\", alpha = 0.5)\n",
    "plt.xlabel('AGE')\n",
    "plt.legend(loc = 2)\n",
    "plt.title('Affect of Age on Satisfaction')\n",
    "plt.show()"
   ]
  },
  {
   "cell_type": "code",
   "execution_count": null,
   "metadata": {},
   "outputs": [],
   "source": [
    "df.columns"
   ]
  },
  {
   "cell_type": "code",
   "execution_count": null,
   "metadata": {
    "scrolled": true
   },
   "outputs": [],
   "source": [
    "g = sns.catplot(x=\"Type of Travel\", y=\"satisfaction\", col=\"Class\",data=df, saturation=.5, kind=\"bar\", ci=None, aspect=.6)\n",
    "g.set_axis_labels(\"\", \"Satisfcation Rate\")\n",
    "g.set_xticklabels([\"Personal\", \"Business\"])\n",
    "g.set_titles(\"{col_name} {col_var}\")\n",
    "g.set(ylim=(0, 1))\n",
    "g.despine(left=True)\n",
    "g.palette=\"Set10\"\n"
   ]
  },
  {
   "cell_type": "code",
   "execution_count": null,
   "metadata": {
    "scrolled": true
   },
   "outputs": [],
   "source": [
    "X_train_cat.columns.tolist()"
   ]
  },
  {
   "cell_type": "code",
   "execution_count": null,
   "metadata": {},
   "outputs": [],
   "source": [
    "df.select_dtypes(exclude=object)"
   ]
  },
  {
   "cell_type": "code",
   "execution_count": null,
   "metadata": {},
   "outputs": [],
   "source": [
    "sns.set_style('whitegrid')\n",
    "x = df['Seat comfort']\n",
    "y = df['satisfaction']\n",
    "fig, ax = plt.subplots()\n",
    "clrs = ['blue' if (x < 5) else 'grey' for x in x]\n",
    "ax = sns.barplot(x=x,y=y, data=df, palette= clrs)\n",
    "ax.ticklabel_format(style='plain', axis='y')\n",
    "plt.show()\n",
    "plt.savefig('Seatcomfort.png');"
   ]
  },
  {
   "cell_type": "code",
   "execution_count": null,
   "metadata": {},
   "outputs": [],
   "source": [
    "df.hist()"
   ]
  },
  {
   "cell_type": "code",
   "execution_count": null,
   "metadata": {},
   "outputs": [],
   "source": []
  }
 ],
 "metadata": {
  "kernelspec": {
   "display_name": "Python 3",
   "language": "python",
   "name": "python3"
  },
  "language_info": {
   "codemirror_mode": {
    "name": "ipython",
    "version": 3
   },
   "file_extension": ".py",
   "mimetype": "text/x-python",
   "name": "python",
   "nbconvert_exporter": "python",
   "pygments_lexer": "ipython3",
   "version": "3.8.5"
  }
 },
 "nbformat": 4,
 "nbformat_minor": 4
}
